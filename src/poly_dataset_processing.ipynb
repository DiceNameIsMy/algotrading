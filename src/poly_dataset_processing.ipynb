{
 "cells": [
  {
   "cell_type": "code",
   "execution_count": 1,
   "id": "c879dbc6",
   "metadata": {},
   "outputs": [],
   "source": [
    "import poly_api\n",
    "\n",
    "\n",
    "markets = [\n",
    "    \"0x0cedbcc216d551bbb704f18cbad8932ea427139760e3dcf715c4a134c875474e\",\n",
    "    \"0x15dbb75d18291f1341ef0d33328a3bcc72cc0872b4dd478a9ce9b00b6dd9dd2c\",\n",
    "    \"0x2118aa01cc2345896b160331291cf0e1d4146da1d9413f1aa214ffbdd0134937\",\n",
    "    \"0x2dded342861dd48b5a239c51a9b7b1cfee20cb1641c875eec3388807cea843b8\",\n",
    "    \"0x453157d57aa34741278cb3d6f20d3d01b138395c3ae9eb34e2b97137fe0f2eaa\",\n",
    "    \"0x62157086c05e1f5ae7c72ae72c0c1fe62cf4d0b045ceefc18357802bcd005ef8\",\n",
    "    \"0x7a18e4d613d7bf6afa06aa9eb1f9287ca81e841d77ae6d5fabdab37f0c0b5d6c\",\n",
    "    \"0x9d84821a6c8b45fcd9dad9f50f1b0fc6cb76de7a68d7686bfefba697c32a6375\",\n",
    "    \"0xa356cb30609f25eab2219e0aeeb64f9e5de471213427ff911264892a205e1c57\",\n",
    "    \"0xad172e84e2a01b30406245a32cade80ad56eb6941ed9e5b22c73b1b206dc7e11\",\n",
    "    \"0xc9501eac519c7b631d0425ea093a127f4552ad52b8fdf4e591cea89b31aad981\",\n",
    "    \"0xedf6eed432b16b5473929350ee322fed560a4ba4a70785ed06331eac724e7826\",\n",
    "    \"0xef3446eac0c8baefadf48c8007429643bdb3d81fbcee4074395600cc40a7c682\",\n",
    "    \"0xf9d0a1390e11c9119cf084b3b86bd883052932a951bf933cf23bdd1c0700bebd\",\n",
    "]\n",
    "markets_bodies = [poly_api.poly_client.get_market(m) for m in markets]\n",
    "\n",
    "tokens: list[str] = []\n",
    "for market in markets_bodies:\n",
    "    for token in market[\"tokens\"]:\n",
    "        tokens.append(token[\"token_id\"])"
   ]
  },
  {
   "cell_type": "code",
   "execution_count": 2,
   "id": "67a0264e",
   "metadata": {},
   "outputs": [
    {
     "data": {
      "text/plain": [
       "[(136, datetime.datetime(2025, 4, 18, 10, 14, 1), 12),\n",
       " (164, datetime.datetime(2025, 4, 18, 10, 15, 2), 12),\n",
       " (192, datetime.datetime(2025, 4, 18, 10, 16, 2), 12),\n",
       " (220, datetime.datetime(2025, 4, 18, 10, 17, 2), 12),\n",
       " (248, datetime.datetime(2025, 4, 18, 10, 18, 2), 12),\n",
       " (276, datetime.datetime(2025, 4, 18, 10, 20, 7), 12),\n",
       " (304, datetime.datetime(2025, 4, 18, 10, 20, 13), 12),\n",
       " (332, datetime.datetime(2025, 4, 18, 10, 22, 8), 12),\n",
       " (360, datetime.datetime(2025, 4, 18, 10, 22, 28), 12),\n",
       " (388, datetime.datetime(2025, 4, 18, 10, 24, 8), 12)]"
      ]
     },
     "execution_count": 2,
     "metadata": {},
     "output_type": "execute_result"
    }
   ],
   "source": [
    "from datetime import datetime\n",
    "\n",
    "from poly_dataset_loader import (\n",
    "    query_token_timeseries_by_tokens,\n",
    "    query_asks_and_bids_by_timeseries,\n",
    ")\n",
    "\n",
    "ts = query_token_timeseries_by_tokens(tokens=tokens[9:10])\n",
    "ts = [(item[0], datetime.fromisoformat(item[1].split('.')[0]), item[2]) for item in ts]\n",
    "ts[0:10]"
   ]
  },
  {
   "cell_type": "code",
   "execution_count": 3,
   "id": "de15ba93",
   "metadata": {},
   "outputs": [
    {
     "data": {
      "text/plain": [
       "3653"
      ]
     },
     "execution_count": 3,
     "metadata": {},
     "output_type": "execute_result"
    }
   ],
   "source": [
    "len(ts)"
   ]
  },
  {
   "cell_type": "code",
   "execution_count": 4,
   "id": "4aae89b6",
   "metadata": {},
   "outputs": [
    {
     "data": {
      "text/plain": [
       "('2025-04-18 10:14:01', '2025-04-20 23:27:01')"
      ]
     },
     "execution_count": 4,
     "metadata": {},
     "output_type": "execute_result"
    }
   ],
   "source": [
    "str(min(ts, key=lambda x: x[1])[1]), str(max(ts, key=lambda x: x[1])[1])"
   ]
  },
  {
   "cell_type": "code",
   "execution_count": 5,
   "id": "e06ecf83",
   "metadata": {},
   "outputs": [
    {
     "name": "stdout",
     "output_type": "stream",
     "text": [
      "<class 'pandas.core.frame.DataFrame'>\n",
      "RangeIndex: 76557 entries, 0 to 76556\n",
      "Data columns (total 2 columns):\n",
      " #   Column         Non-Null Count  Dtype  \n",
      "---  ------         --------------  -----  \n",
      " 0   timeseries_id  76557 non-null  int64  \n",
      " 1   ask            76557 non-null  float64\n",
      "dtypes: float64(1), int64(1)\n",
      "memory usage: 1.2 MB\n"
     ]
    }
   ],
   "source": [
    "import sqlite3\n",
    "\n",
    "import pandas as pd\n",
    "from poly_dataset_loader import create_tables, get_database_dir\n",
    "\n",
    "\n",
    "db_dir = get_database_dir()\n",
    "conn = sqlite3.connect(db_dir / \"order_book.db\")\n",
    "cursor = conn.cursor()\n",
    "create_tables(cursor)\n",
    "\n",
    "ts = pd.read_sql_query(\n",
    "    \"\"\"\n",
    "    SELECT timeseries_id, timestamp, token_id\n",
    "    FROM token_timeseries\n",
    "    \"\"\",\n",
    "    conn,\n",
    ")\n",
    "ts['timestamp'] = pd.to_datetime(ts['timestamp'])\n",
    "\n",
    "asks = pd.read_sql_query(\n",
    "    \"SELECT timeseries_id, MAX(price) as ask FROM asks GROUP BY timeseries_id\", conn\n",
    ")\n",
    "bids = pd.read_sql_query(\n",
    "    \"SELECT timeseries_id, MIN(price) as bid FROM bids GROUP BY timeseries_id\", conn\n",
    ")\n",
    "\n",
    "conn.close()\n",
    "\n",
    "asks.info()"
   ]
  },
  {
   "cell_type": "code",
   "execution_count": 6,
   "id": "eba683e7",
   "metadata": {},
   "outputs": [
    {
     "name": "stdout",
     "output_type": "stream",
     "text": [
      "<class 'pandas.core.frame.DataFrame'>\n",
      "RangeIndex: 102408 entries, 0 to 102407\n",
      "Data columns (total 3 columns):\n",
      " #   Column         Non-Null Count   Dtype         \n",
      "---  ------         --------------   -----         \n",
      " 0   timeseries_id  102408 non-null  int64         \n",
      " 1   timestamp      102408 non-null  datetime64[ns]\n",
      " 2   token_id       102408 non-null  int64         \n",
      "dtypes: datetime64[ns](1), int64(2)\n",
      "memory usage: 2.3 MB\n",
      "<class 'pandas.core.frame.DataFrame'>\n",
      "RangeIndex: 76557 entries, 0 to 76556\n",
      "Data columns (total 2 columns):\n",
      " #   Column         Non-Null Count  Dtype  \n",
      "---  ------         --------------  -----  \n",
      " 0   timeseries_id  76557 non-null  int64  \n",
      " 1   ask            76557 non-null  float64\n",
      "dtypes: float64(1), int64(1)\n",
      "memory usage: 1.2 MB\n",
      "<class 'pandas.core.frame.DataFrame'>\n",
      "RangeIndex: 76557 entries, 0 to 76556\n",
      "Data columns (total 2 columns):\n",
      " #   Column         Non-Null Count  Dtype  \n",
      "---  ------         --------------  -----  \n",
      " 0   timeseries_id  76557 non-null  int64  \n",
      " 1   bid            76557 non-null  float64\n",
      "dtypes: float64(1), int64(1)\n",
      "memory usage: 1.2 MB\n"
     ]
    },
    {
     "data": {
      "text/plain": [
       "(None, None, None)"
      ]
     },
     "execution_count": 6,
     "metadata": {},
     "output_type": "execute_result"
    }
   ],
   "source": [
    "ts.info(), asks.info(), bids.info()"
   ]
  },
  {
   "cell_type": "code",
   "execution_count": 7,
   "id": "d715f9c3",
   "metadata": {},
   "outputs": [
    {
     "name": "stdout",
     "output_type": "stream",
     "text": [
      "<class 'pandas.core.frame.DataFrame'>\n",
      "Index: 2160 entries, 14 to 56095\n",
      "Data columns (total 3 columns):\n",
      " #   Column         Non-Null Count  Dtype         \n",
      "---  ------         --------------  -----         \n",
      " 0   timeseries_id  2160 non-null   int64         \n",
      " 1   timestamp      2160 non-null   datetime64[ns]\n",
      " 2   token_id       2160 non-null   int64         \n",
      "dtypes: datetime64[ns](1), int64(2)\n",
      "memory usage: 67.5 KB\n"
     ]
    },
    {
     "data": {
      "text/html": [
       "<div>\n",
       "<style scoped>\n",
       "    .dataframe tbody tr th:only-of-type {\n",
       "        vertical-align: middle;\n",
       "    }\n",
       "\n",
       "    .dataframe tbody tr th {\n",
       "        vertical-align: top;\n",
       "    }\n",
       "\n",
       "    .dataframe thead th {\n",
       "        text-align: right;\n",
       "    }\n",
       "</style>\n",
       "<table border=\"1\" class=\"dataframe\">\n",
       "  <thead>\n",
       "    <tr style=\"text-align: right;\">\n",
       "      <th></th>\n",
       "      <th>timeseries_id</th>\n",
       "      <th>timestamp</th>\n",
       "      <th>token_id</th>\n",
       "    </tr>\n",
       "  </thead>\n",
       "  <tbody>\n",
       "    <tr>\n",
       "      <th>14</th>\n",
       "      <td>15</td>\n",
       "      <td>2025-04-18 09:19:33.791081</td>\n",
       "      <td>1</td>\n",
       "    </tr>\n",
       "    <tr>\n",
       "      <th>15</th>\n",
       "      <td>16</td>\n",
       "      <td>2025-04-18 09:19:33.791081</td>\n",
       "      <td>2</td>\n",
       "    </tr>\n",
       "    <tr>\n",
       "      <th>62</th>\n",
       "      <td>63</td>\n",
       "      <td>2025-04-18 09:43:12.286864</td>\n",
       "      <td>1</td>\n",
       "    </tr>\n",
       "    <tr>\n",
       "      <th>63</th>\n",
       "      <td>64</td>\n",
       "      <td>2025-04-18 09:43:12.286864</td>\n",
       "      <td>2</td>\n",
       "    </tr>\n",
       "    <tr>\n",
       "      <th>292</th>\n",
       "      <td>293</td>\n",
       "      <td>2025-04-18 10:20:13.974474</td>\n",
       "      <td>1</td>\n",
       "    </tr>\n",
       "  </tbody>\n",
       "</table>\n",
       "</div>"
      ],
      "text/plain": [
       "     timeseries_id                  timestamp  token_id\n",
       "14              15 2025-04-18 09:19:33.791081         1\n",
       "15              16 2025-04-18 09:19:33.791081         2\n",
       "62              63 2025-04-18 09:43:12.286864         1\n",
       "63              64 2025-04-18 09:43:12.286864         2\n",
       "292            293 2025-04-18 10:20:13.974474         1"
      ]
     },
     "execution_count": 7,
     "metadata": {},
     "output_type": "execute_result"
    }
   ],
   "source": [
    "ts_with_huge_delay = ts[ts[\"timestamp\"].dt.second > 10]\n",
    "ts_with_huge_delay.info()\n",
    "ts_with_huge_delay.head()"
   ]
  },
  {
   "cell_type": "code",
   "execution_count": 8,
   "id": "8099b6ce",
   "metadata": {},
   "outputs": [
    {
     "name": "stdout",
     "output_type": "stream",
     "text": [
      "<class 'pandas.core.frame.DataFrame'>\n",
      "Index: 100248 entries, 0 to 102407\n",
      "Data columns (total 3 columns):\n",
      " #   Column         Non-Null Count   Dtype         \n",
      "---  ------         --------------   -----         \n",
      " 0   timeseries_id  100248 non-null  int64         \n",
      " 1   timestamp      100248 non-null  datetime64[ns]\n",
      " 2   token_id       100248 non-null  int64         \n",
      "dtypes: datetime64[ns](1), int64(2)\n",
      "memory usage: 3.1 MB\n"
     ]
    }
   ],
   "source": [
    "ts_filtered = ts.loc[~ts.index.isin(ts_with_huge_delay.index)].copy()\n",
    "\n",
    "ts_filtered['timestamp'] = ts_filtered['timestamp'].dt.floor('min')\n",
    "\n",
    "ts_filtered.info()"
   ]
  },
  {
   "cell_type": "code",
   "execution_count": 9,
   "id": "3f47659a",
   "metadata": {},
   "outputs": [
    {
     "name": "stdout",
     "output_type": "stream",
     "text": [
      "<class 'pandas.core.frame.DataFrame'>\n",
      "RangeIndex: 100248 entries, 0 to 100247\n",
      "Data columns (total 5 columns):\n",
      " #   Column         Non-Null Count   Dtype         \n",
      "---  ------         --------------   -----         \n",
      " 0   timeseries_id  100248 non-null  int64         \n",
      " 1   timestamp      100248 non-null  datetime64[ns]\n",
      " 2   token_id       100248 non-null  int64         \n",
      " 3   ask            74881 non-null   float64       \n",
      " 4   bid            74881 non-null   float64       \n",
      "dtypes: datetime64[ns](1), float64(2), int64(2)\n",
      "memory usage: 3.8 MB\n"
     ]
    },
    {
     "data": {
      "text/html": [
       "<div>\n",
       "<style scoped>\n",
       "    .dataframe tbody tr th:only-of-type {\n",
       "        vertical-align: middle;\n",
       "    }\n",
       "\n",
       "    .dataframe tbody tr th {\n",
       "        vertical-align: top;\n",
       "    }\n",
       "\n",
       "    .dataframe thead th {\n",
       "        text-align: right;\n",
       "    }\n",
       "</style>\n",
       "<table border=\"1\" class=\"dataframe\">\n",
       "  <thead>\n",
       "    <tr style=\"text-align: right;\">\n",
       "      <th></th>\n",
       "      <th>timeseries_id</th>\n",
       "      <th>timestamp</th>\n",
       "      <th>token_id</th>\n",
       "      <th>ask</th>\n",
       "      <th>bid</th>\n",
       "    </tr>\n",
       "  </thead>\n",
       "  <tbody>\n",
       "    <tr>\n",
       "      <th>0</th>\n",
       "      <td>1</td>\n",
       "      <td>2025-04-18 09:12:00</td>\n",
       "      <td>1</td>\n",
       "      <td>0.80</td>\n",
       "      <td>0.01</td>\n",
       "    </tr>\n",
       "    <tr>\n",
       "      <th>1</th>\n",
       "      <td>2</td>\n",
       "      <td>2025-04-18 09:12:00</td>\n",
       "      <td>2</td>\n",
       "      <td>0.99</td>\n",
       "      <td>0.20</td>\n",
       "    </tr>\n",
       "    <tr>\n",
       "      <th>2</th>\n",
       "      <td>3</td>\n",
       "      <td>2025-04-18 09:13:00</td>\n",
       "      <td>1</td>\n",
       "      <td>0.80</td>\n",
       "      <td>0.01</td>\n",
       "    </tr>\n",
       "    <tr>\n",
       "      <th>3</th>\n",
       "      <td>4</td>\n",
       "      <td>2025-04-18 09:13:00</td>\n",
       "      <td>2</td>\n",
       "      <td>0.99</td>\n",
       "      <td>0.20</td>\n",
       "    </tr>\n",
       "    <tr>\n",
       "      <th>4</th>\n",
       "      <td>5</td>\n",
       "      <td>2025-04-18 09:14:00</td>\n",
       "      <td>1</td>\n",
       "      <td>0.80</td>\n",
       "      <td>0.01</td>\n",
       "    </tr>\n",
       "  </tbody>\n",
       "</table>\n",
       "</div>"
      ],
      "text/plain": [
       "   timeseries_id           timestamp  token_id   ask   bid\n",
       "0              1 2025-04-18 09:12:00         1  0.80  0.01\n",
       "1              2 2025-04-18 09:12:00         2  0.99  0.20\n",
       "2              3 2025-04-18 09:13:00         1  0.80  0.01\n",
       "3              4 2025-04-18 09:13:00         2  0.99  0.20\n",
       "4              5 2025-04-18 09:14:00         1  0.80  0.01"
      ]
     },
     "execution_count": 9,
     "metadata": {},
     "output_type": "execute_result"
    }
   ],
   "source": [
    "ts_a = ts_filtered.merge(asks, on='timeseries_id', how='left')\n",
    "ts_ab = ts_a.merge(bids, on='timeseries_id', how='left')\n",
    "ts_ab.info()\n",
    "ts_ab.head()"
   ]
  },
  {
   "cell_type": "code",
   "execution_count": 10,
   "id": "8941af66",
   "metadata": {},
   "outputs": [
    {
     "name": "stdout",
     "output_type": "stream",
     "text": [
      "<class 'pandas.core.frame.DataFrame'>\n",
      "Index: 70970 entries, 0 to 100247\n",
      "Data columns (total 5 columns):\n",
      " #   Column         Non-Null Count  Dtype         \n",
      "---  ------         --------------  -----         \n",
      " 0   timeseries_id  70970 non-null  int64         \n",
      " 1   timestamp      70970 non-null  datetime64[ns]\n",
      " 2   token_id       70970 non-null  int64         \n",
      " 3   ask            70970 non-null  float64       \n",
      " 4   bid            70970 non-null  float64       \n",
      "dtypes: datetime64[ns](1), float64(2), int64(2)\n",
      "memory usage: 3.2 MB\n"
     ]
    }
   ],
   "source": [
    "ts_ab_filtered = ts_ab.dropna()\n",
    "ts_ab_filtered.info()"
   ]
  },
  {
   "cell_type": "code",
   "execution_count": 11,
   "id": "3ca86034",
   "metadata": {},
   "outputs": [
    {
     "data": {
      "text/plain": [
       "(np.float64(0.02003883330984924),\n",
       " np.float64(0.03967914945818073),\n",
       " np.float64(0.003),\n",
       " np.float64(0.98))"
      ]
     },
     "execution_count": 11,
     "metadata": {},
     "output_type": "execute_result"
    }
   ],
   "source": [
    "import numpy as np\n",
    "\n",
    "\n",
    "delta = (ts_ab_filtered[\"ask\"] - ts_ab_filtered[\"bid\"])\n",
    "np.mean(delta), np.std(delta), np.min(delta), np.max(delta)"
   ]
  },
  {
   "cell_type": "code",
   "execution_count": 12,
   "id": "429cf8e8",
   "metadata": {},
   "outputs": [
    {
     "name": "stdout",
     "output_type": "stream",
     "text": [
      "Created 22 groups\n",
      "<class 'pandas.core.frame.DataFrame'>\n",
      "DatetimeIndex: 3636 entries, 2025-04-18 09:12:00 to 2025-04-20 23:27:00\n",
      "Data columns (total 4 columns):\n",
      " #   Column         Non-Null Count  Dtype  \n",
      "---  ------         --------------  -----  \n",
      " 0   timeseries_id  3636 non-null   int64  \n",
      " 1   token_id       3636 non-null   int64  \n",
      " 2   ask            3636 non-null   float64\n",
      " 3   bid            3636 non-null   float64\n",
      "dtypes: float64(2), int64(2)\n",
      "memory usage: 142.0 KB\n"
     ]
    },
    {
     "data": {
      "text/html": [
       "<div>\n",
       "<style scoped>\n",
       "    .dataframe tbody tr th:only-of-type {\n",
       "        vertical-align: middle;\n",
       "    }\n",
       "\n",
       "    .dataframe tbody tr th {\n",
       "        vertical-align: top;\n",
       "    }\n",
       "\n",
       "    .dataframe thead th {\n",
       "        text-align: right;\n",
       "    }\n",
       "</style>\n",
       "<table border=\"1\" class=\"dataframe\">\n",
       "  <thead>\n",
       "    <tr style=\"text-align: right;\">\n",
       "      <th></th>\n",
       "      <th>timeseries_id</th>\n",
       "      <th>token_id</th>\n",
       "      <th>ask</th>\n",
       "      <th>bid</th>\n",
       "    </tr>\n",
       "    <tr>\n",
       "      <th>timestamp</th>\n",
       "      <th></th>\n",
       "      <th></th>\n",
       "      <th></th>\n",
       "      <th></th>\n",
       "    </tr>\n",
       "  </thead>\n",
       "  <tbody>\n",
       "    <tr>\n",
       "      <th>2025-04-18 09:12:00</th>\n",
       "      <td>1</td>\n",
       "      <td>1</td>\n",
       "      <td>0.8</td>\n",
       "      <td>0.01</td>\n",
       "    </tr>\n",
       "    <tr>\n",
       "      <th>2025-04-18 09:13:00</th>\n",
       "      <td>3</td>\n",
       "      <td>1</td>\n",
       "      <td>0.8</td>\n",
       "      <td>0.01</td>\n",
       "    </tr>\n",
       "    <tr>\n",
       "      <th>2025-04-18 09:14:00</th>\n",
       "      <td>5</td>\n",
       "      <td>1</td>\n",
       "      <td>0.8</td>\n",
       "      <td>0.01</td>\n",
       "    </tr>\n",
       "    <tr>\n",
       "      <th>2025-04-18 09:15:00</th>\n",
       "      <td>7</td>\n",
       "      <td>1</td>\n",
       "      <td>0.8</td>\n",
       "      <td>0.01</td>\n",
       "    </tr>\n",
       "    <tr>\n",
       "      <th>2025-04-18 09:16:00</th>\n",
       "      <td>9</td>\n",
       "      <td>1</td>\n",
       "      <td>0.8</td>\n",
       "      <td>0.01</td>\n",
       "    </tr>\n",
       "  </tbody>\n",
       "</table>\n",
       "</div>"
      ],
      "text/plain": [
       "                     timeseries_id  token_id  ask   bid\n",
       "timestamp                                              \n",
       "2025-04-18 09:12:00              1         1  0.8  0.01\n",
       "2025-04-18 09:13:00              3         1  0.8  0.01\n",
       "2025-04-18 09:14:00              5         1  0.8  0.01\n",
       "2025-04-18 09:15:00              7         1  0.8  0.01\n",
       "2025-04-18 09:16:00              9         1  0.8  0.01"
      ]
     },
     "execution_count": 12,
     "metadata": {},
     "output_type": "execute_result"
    }
   ],
   "source": [
    "\n",
    "df_by_token = [\n",
    "    group.set_index('timestamp')\n",
    "    for token_id, group in ts_ab_filtered.groupby('token_id')\n",
    "]\n",
    "\n",
    "print(f\"Created {len(df_by_token)} groups\")\n",
    "df_by_token[0].info()\n",
    "df_by_token[0].head()"
   ]
  },
  {
   "cell_type": "code",
   "execution_count": 13,
   "id": "be0eaef2",
   "metadata": {},
   "outputs": [
    {
     "data": {
      "text/plain": [
       "array([   0,    7,   26,   27,   28,   29,   65,   66,   67,   68,   69,\n",
       "        114,  115,  116,  117,  118,  122,  123,  125,  126,  127,  128,\n",
       "        129,  130,  131,  132,  133,  134,  135,  136,  137,  138,  139,\n",
       "        140,  141,  142,  143,  144,  145,  146,  147,  148,  149,  150,\n",
       "        151,  152,  153,  154,  155,  156,  157,  158,  159,  160,  161,\n",
       "        162,  163,  164,  165,  166,  167,  168,  169, 1425, 1427, 1428,\n",
       "       1429, 1430, 1431, 1432, 1979, 1980, 1981, 1982, 1983])"
      ]
     },
     "execution_count": 13,
     "metadata": {},
     "output_type": "execute_result"
    }
   ],
   "source": [
    "diff = df_by_token[0].index.diff()\n",
    "\n",
    "idxs = np.where(diff != pd.Timedelta(minutes=1))[0]\n",
    "idxs"
   ]
  },
  {
   "cell_type": "code",
   "execution_count": 14,
   "id": "3900e403",
   "metadata": {},
   "outputs": [
    {
     "data": {
      "text/plain": [
       "np.int64(1256)"
      ]
     },
     "execution_count": 14,
     "metadata": {},
     "output_type": "execute_result"
    }
   ],
   "source": [
    "\n",
    "diff = 0\n",
    "for i in range(len(idxs) - 1):\n",
    "    diff = max(diff, idxs[i+1] - idxs[i])\n",
    "\n",
    "diff"
   ]
  },
  {
   "cell_type": "code",
   "execution_count": 15,
   "id": "07ac4cbc",
   "metadata": {},
   "outputs": [
    {
     "data": {
      "text/html": [
       "<div>\n",
       "<style scoped>\n",
       "    .dataframe tbody tr th:only-of-type {\n",
       "        vertical-align: middle;\n",
       "    }\n",
       "\n",
       "    .dataframe tbody tr th {\n",
       "        vertical-align: top;\n",
       "    }\n",
       "\n",
       "    .dataframe thead th {\n",
       "        text-align: right;\n",
       "    }\n",
       "</style>\n",
       "<table border=\"1\" class=\"dataframe\">\n",
       "  <thead>\n",
       "    <tr style=\"text-align: right;\">\n",
       "      <th></th>\n",
       "      <th>timeseries_id</th>\n",
       "      <th>token_id</th>\n",
       "      <th>ask</th>\n",
       "      <th>bid</th>\n",
       "    </tr>\n",
       "    <tr>\n",
       "      <th>timestamp</th>\n",
       "      <th></th>\n",
       "      <th></th>\n",
       "      <th></th>\n",
       "      <th></th>\n",
       "    </tr>\n",
       "  </thead>\n",
       "  <tbody>\n",
       "    <tr>\n",
       "      <th>2025-04-18 13:13:00</th>\n",
       "      <td>4717</td>\n",
       "      <td>1</td>\n",
       "      <td>0.16</td>\n",
       "      <td>0.11</td>\n",
       "    </tr>\n",
       "    <tr>\n",
       "      <th>2025-04-18 13:14:00</th>\n",
       "      <td>4745</td>\n",
       "      <td>1</td>\n",
       "      <td>0.16</td>\n",
       "      <td>0.11</td>\n",
       "    </tr>\n",
       "    <tr>\n",
       "      <th>2025-04-18 13:15:00</th>\n",
       "      <td>4773</td>\n",
       "      <td>1</td>\n",
       "      <td>0.16</td>\n",
       "      <td>0.11</td>\n",
       "    </tr>\n",
       "    <tr>\n",
       "      <th>2025-04-18 13:16:00</th>\n",
       "      <td>4801</td>\n",
       "      <td>1</td>\n",
       "      <td>0.16</td>\n",
       "      <td>0.11</td>\n",
       "    </tr>\n",
       "    <tr>\n",
       "      <th>2025-04-18 13:17:00</th>\n",
       "      <td>4829</td>\n",
       "      <td>1</td>\n",
       "      <td>0.16</td>\n",
       "      <td>0.11</td>\n",
       "    </tr>\n",
       "    <tr>\n",
       "      <th>...</th>\n",
       "      <td>...</td>\n",
       "      <td>...</td>\n",
       "      <td>...</td>\n",
       "      <td>...</td>\n",
       "    </tr>\n",
       "    <tr>\n",
       "      <th>2025-04-19 10:04:00</th>\n",
       "      <td>39745</td>\n",
       "      <td>1</td>\n",
       "      <td>0.15</td>\n",
       "      <td>0.10</td>\n",
       "    </tr>\n",
       "    <tr>\n",
       "      <th>2025-04-19 10:05:00</th>\n",
       "      <td>39773</td>\n",
       "      <td>1</td>\n",
       "      <td>0.15</td>\n",
       "      <td>0.10</td>\n",
       "    </tr>\n",
       "    <tr>\n",
       "      <th>2025-04-19 10:06:00</th>\n",
       "      <td>39801</td>\n",
       "      <td>1</td>\n",
       "      <td>0.15</td>\n",
       "      <td>0.10</td>\n",
       "    </tr>\n",
       "    <tr>\n",
       "      <th>2025-04-19 10:07:00</th>\n",
       "      <td>39829</td>\n",
       "      <td>1</td>\n",
       "      <td>0.15</td>\n",
       "      <td>0.10</td>\n",
       "    </tr>\n",
       "    <tr>\n",
       "      <th>2025-04-19 10:08:00</th>\n",
       "      <td>39857</td>\n",
       "      <td>1</td>\n",
       "      <td>0.15</td>\n",
       "      <td>0.10</td>\n",
       "    </tr>\n",
       "  </tbody>\n",
       "</table>\n",
       "<p>1256 rows × 4 columns</p>\n",
       "</div>"
      ],
      "text/plain": [
       "                     timeseries_id  token_id   ask   bid\n",
       "timestamp                                               \n",
       "2025-04-18 13:13:00           4717         1  0.16  0.11\n",
       "2025-04-18 13:14:00           4745         1  0.16  0.11\n",
       "2025-04-18 13:15:00           4773         1  0.16  0.11\n",
       "2025-04-18 13:16:00           4801         1  0.16  0.11\n",
       "2025-04-18 13:17:00           4829         1  0.16  0.11\n",
       "...                            ...       ...   ...   ...\n",
       "2025-04-19 10:04:00          39745         1  0.15  0.10\n",
       "2025-04-19 10:05:00          39773         1  0.15  0.10\n",
       "2025-04-19 10:06:00          39801         1  0.15  0.10\n",
       "2025-04-19 10:07:00          39829         1  0.15  0.10\n",
       "2025-04-19 10:08:00          39857         1  0.15  0.10\n",
       "\n",
       "[1256 rows x 4 columns]"
      ]
     },
     "execution_count": 15,
     "metadata": {},
     "output_type": "execute_result"
    }
   ],
   "source": [
    "subset = df_by_token[0].iloc[169:1425]\n",
    "subset"
   ]
  },
  {
   "cell_type": "code",
   "execution_count": 16,
   "id": "de0f2c5d",
   "metadata": {},
   "outputs": [
    {
     "data": {
      "text/plain": [
       "np.float64(0.05196656050955415)"
      ]
     },
     "execution_count": 16,
     "metadata": {},
     "output_type": "execute_result"
    }
   ],
   "source": [
    "np.mean(subset[\"ask\"] - subset[\"bid\"])"
   ]
  },
  {
   "cell_type": "code",
   "execution_count": 17,
   "id": "0f9f1989",
   "metadata": {},
   "outputs": [],
   "source": [
    "def trading_func_use_capped(\n",
    "    idx: int,\n",
    "    shares: np.ndarray,\n",
    "    binance_delta: np.ndarray,\n",
    "    traded: np.ndarray,\n",
    "    poly_bid: np.ndarray,\n",
    "    poly_ask: np.ndarray,\n",
    "    balance: np.ndarray,\n",
    "    min_delta: float,\n",
    "    transaction_fee: float,\n",
    "    purchase_cap: float = 100,\n",
    "):\n",
    "    btc_price_grew = binance_delta[idx] > min_delta\n",
    "    holding_shares = shares[idx - 1] > 0\n",
    "\n",
    "    if not holding_shares:\n",
    "        if btc_price_grew:\n",
    "            # Buy shares\n",
    "            spend = min(purchase_cap + transaction_fee, balance[idx - 1])\n",
    "            spend_on_shares = spend - transaction_fee\n",
    "            shares[idx] = spend_on_shares / poly_ask[idx]\n",
    "            balance[idx] = balance[idx - 1] - spend\n",
    "            traded[idx] = True\n",
    "\n",
    "    elif holding_shares:\n",
    "        # Sell shares\n",
    "        balance[idx] = (\n",
    "            balance[idx - 1]\n",
    "            + (shares[idx - 1] * poly_bid[idx])\n",
    "            - transaction_fee\n",
    "        )\n",
    "        shares[idx] = 0\n",
    "        traded[idx] = True\n",
    "\n",
    "    # If a new balance was not set, keep the previous one\n",
    "    if not traded[idx]:\n",
    "        balance[idx] = balance[idx - 1]\n",
    "        shares[idx] = shares[idx - 1]\n",
    "\n",
    "\n",
    "def simulate_trading(\n",
    "    poly_bid: np.ndarray,\n",
    "    poly_ask: np.ndarray,\n",
    "    binance_delta: pd.Series,\n",
    "    starting_balance=100,\n",
    "    min_delta=30,\n",
    "    transaction_fee=0.0,\n",
    "):\n",
    "    # Add an extra item at the beginning to simplify indexing\n",
    "    poly_bid = np.concat((np.array([poly_bid[0]]), poly_bid))\n",
    "    poly_ask = np.concat((np.array([poly_ask[0]]), poly_ask))\n",
    "\n",
    "    binance_delta = np.concat(([0], binance_delta.to_numpy()))\n",
    "\n",
    "    # TODO: My trades can influence the market. Add some cap to the amount of shares I can buy/sell?\n",
    "    # TODO: Not all my shares can get bought. Account for that too.\n",
    "    # TODO: Does it make sense to look at consecutive change of BTC price?\n",
    "    #       Datapoints where BTC grew 2+ consecutive intervals at a time?\n",
    "    balance = np.zeros(len(poly_bid)) * np.nan\n",
    "    shares = np.zeros(len(poly_bid)) * np.nan\n",
    "    traded = np.zeros(len(poly_bid))\n",
    "\n",
    "    balance[0] = starting_balance\n",
    "    shares[0] = 0\n",
    "\n",
    "    idx = 1\n",
    "    while idx < (len(poly_bid) - 1):\n",
    "        trading_func_use_capped(\n",
    "            idx,\n",
    "            shares,\n",
    "            binance_delta,\n",
    "            traded,\n",
    "            poly_bid,\n",
    "            poly_ask,\n",
    "            balance,\n",
    "            min_delta,\n",
    "            transaction_fee,\n",
    "        )\n",
    "        idx += 1\n",
    "\n",
    "    # Set the last balance and shares to some value (NaN by default)\n",
    "    balance[idx] = balance[idx - 1]\n",
    "\n",
    "    # If has shares at the end, sell them all\n",
    "    if shares[idx] > 0:\n",
    "        aquired_balance = shares[idx] * poly_ask[idx - 1]\n",
    "        balance[idx] = balance[idx - 1] + aquired_balance - transaction_fee\n",
    "        shares[idx] = 0\n",
    "        traded[idx] = True\n",
    "    else:\n",
    "        shares[idx] = shares[idx - 1]\n",
    "\n",
    "    actives = balance + (shares * poly_ask)\n",
    "    actives_end = actives[1:]\n",
    "    actives_start = actives[:-1]\n",
    "    actives_delta = actives_end - actives_start\n",
    "    actives_delta_percentage = actives_delta / actives_start\n",
    "\n",
    "    trades_made = np.sum(traded)\n",
    "    total_fees = transaction_fee * trades_made\n",
    "    return {\n",
    "        \"actives_start\": actives[0],\n",
    "        \"actives_end\": round(float(actives[idx]), 4),\n",
    "        \"actives\": actives,\n",
    "        \"actives_delta\": actives_delta,\n",
    "        \"actives_delta_percentage\": actives_delta_percentage,\n",
    "        \"actives_won_lost\": (\n",
    "            round(float(sum(actives_delta[actives_delta > 0])), 4),\n",
    "            round(float(sum(actives_delta[actives_delta < 0])), 4),\n",
    "        ),\n",
    "        \"trades_made\": trades_made,\n",
    "        \"trades_won_lost\": (\n",
    "            int(sum(actives_delta > 0)),\n",
    "            int(sum(actives_delta < 0)),\n",
    "        ),\n",
    "        \"trade_fees\": round(total_fees, 4),\n",
    "        \"trade_descisions_made\": len(poly_bid),\n",
    "    }\n",
    "\n",
    "\n",
    "def print_result(result: dict):\n",
    "    for key, value in result.items():\n",
    "        if not isinstance(value, np.ndarray):\n",
    "            print(f\"{key}: {value}\")"
   ]
  },
  {
   "cell_type": "code",
   "execution_count": 26,
   "id": "8961c8f3",
   "metadata": {},
   "outputs": [
    {
     "name": "stdout",
     "output_type": "stream",
     "text": [
      "<class 'pandas.core.frame.DataFrame'>\n",
      "DatetimeIndex: 3736 entries, 2025-04-18 09:12:00 to 2025-04-20 23:27:00\n",
      "Data columns (total 12 columns):\n",
      " #   Column                        Non-Null Count  Dtype         \n",
      "---  ------                        --------------  -----         \n",
      " 0   Open                          3736 non-null   float64       \n",
      " 1   High                          3736 non-null   float64       \n",
      " 2   Low                           3736 non-null   float64       \n",
      " 3   Close                         3736 non-null   float64       \n",
      " 4   Volume                        3736 non-null   float64       \n",
      " 5   Close Time                    3736 non-null   datetime64[ns]\n",
      " 6   Quote Asset Volume            3736 non-null   float64       \n",
      " 7   Number of Trades              3736 non-null   int64         \n",
      " 8   Taker Buy Base Asset Volume   3736 non-null   float64       \n",
      " 9   Taker Buy Quote Asset Volume  3736 non-null   float64       \n",
      " 10  Ignore                        3736 non-null   object        \n",
      " 11  delta                         3736 non-null   float64       \n",
      "dtypes: datetime64[ns](1), float64(9), int64(1), object(1)\n",
      "memory usage: 379.4+ KB\n",
      "actives_start: 100.0\n",
      "actives_end: 3.4329\n",
      "actives_won_lost: (0.0, -96.5671)\n",
      "trades_made: 12.0\n",
      "trades_won_lost: (0, 6)\n",
      "trade_fees: 0.0\n",
      "trade_descisions_made: 3637\n"
     ]
    }
   ],
   "source": [
    "from binance.client import Client\n",
    "\n",
    "import binance_datasets\n",
    "from poly_datasets import PMDataset\n",
    "\n",
    "binance_df = binance_datasets.load_binance_dataset(\n",
    "    \"BTCUSDT\", \n",
    "    1,\n",
    "    start=min(df_by_token[0].index),\n",
    "    end=max(df_by_token[0].index),\n",
    ")\n",
    "binance_df.info()\n",
    "\n",
    "r = simulate_trading(\n",
    "    poly_bid=df_by_token[0][\"bid\"].to_numpy(),\n",
    "    poly_ask=df_by_token[0][\"ask\"].to_numpy(),\n",
    "    binance_delta=binance_df[\"delta\"],\n",
    "    starting_balance=100,\n",
    "    min_delta=100,\n",
    "    transaction_fee=0.0,\n",
    ")\n",
    "\n",
    "print_result(r)"
   ]
  }
 ],
 "metadata": {
  "kernelspec": {
   "display_name": "venv",
   "language": "python",
   "name": "python3"
  },
  "language_info": {
   "codemirror_mode": {
    "name": "ipython",
    "version": 3
   },
   "file_extension": ".py",
   "mimetype": "text/x-python",
   "name": "python",
   "nbconvert_exporter": "python",
   "pygments_lexer": "ipython3",
   "version": "3.13.2"
  }
 },
 "nbformat": 4,
 "nbformat_minor": 5
}

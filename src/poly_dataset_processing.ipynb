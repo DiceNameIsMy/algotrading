{
 "cells": [
  {
   "cell_type": "code",
   "execution_count": 1,
   "id": "c879dbc6",
   "metadata": {},
   "outputs": [],
   "source": [
    "import poly_api\n",
    "\n",
    "\n",
    "markets = [\n",
    "    \"0x0cedbcc216d551bbb704f18cbad8932ea427139760e3dcf715c4a134c875474e\",\n",
    "    \"0x15dbb75d18291f1341ef0d33328a3bcc72cc0872b4dd478a9ce9b00b6dd9dd2c\",\n",
    "    \"0x2118aa01cc2345896b160331291cf0e1d4146da1d9413f1aa214ffbdd0134937\",\n",
    "    \"0x2dded342861dd48b5a239c51a9b7b1cfee20cb1641c875eec3388807cea843b8\",\n",
    "    \"0x453157d57aa34741278cb3d6f20d3d01b138395c3ae9eb34e2b97137fe0f2eaa\",\n",
    "    \"0x62157086c05e1f5ae7c72ae72c0c1fe62cf4d0b045ceefc18357802bcd005ef8\",\n",
    "    \"0x7a18e4d613d7bf6afa06aa9eb1f9287ca81e841d77ae6d5fabdab37f0c0b5d6c\",\n",
    "    \"0x9d84821a6c8b45fcd9dad9f50f1b0fc6cb76de7a68d7686bfefba697c32a6375\",\n",
    "    \"0xa356cb30609f25eab2219e0aeeb64f9e5de471213427ff911264892a205e1c57\",\n",
    "    \"0xad172e84e2a01b30406245a32cade80ad56eb6941ed9e5b22c73b1b206dc7e11\",\n",
    "    \"0xc9501eac519c7b631d0425ea093a127f4552ad52b8fdf4e591cea89b31aad981\",\n",
    "    \"0xedf6eed432b16b5473929350ee322fed560a4ba4a70785ed06331eac724e7826\",\n",
    "    \"0xef3446eac0c8baefadf48c8007429643bdb3d81fbcee4074395600cc40a7c682\",\n",
    "    \"0xf9d0a1390e11c9119cf084b3b86bd883052932a951bf933cf23bdd1c0700bebd\",\n",
    "]\n",
    "markets_bodies = [poly_api.poly_client.get_market(m) for m in markets]\n",
    "\n",
    "tokens: list[str] = []\n",
    "for market in markets_bodies:\n",
    "    for token in market[\"tokens\"]:\n",
    "        tokens.append(token[\"token_id\"])"
   ]
  },
  {
   "cell_type": "code",
   "execution_count": 2,
   "id": "67a0264e",
   "metadata": {},
   "outputs": [
    {
     "data": {
      "text/plain": [
       "[(136, datetime.datetime(2025, 4, 18, 10, 14, 1), 12),\n",
       " (164, datetime.datetime(2025, 4, 18, 10, 15, 2), 12),\n",
       " (192, datetime.datetime(2025, 4, 18, 10, 16, 2), 12),\n",
       " (220, datetime.datetime(2025, 4, 18, 10, 17, 2), 12),\n",
       " (248, datetime.datetime(2025, 4, 18, 10, 18, 2), 12),\n",
       " (276, datetime.datetime(2025, 4, 18, 10, 20, 7), 12),\n",
       " (304, datetime.datetime(2025, 4, 18, 10, 20, 13), 12),\n",
       " (332, datetime.datetime(2025, 4, 18, 10, 22, 8), 12),\n",
       " (360, datetime.datetime(2025, 4, 18, 10, 22, 28), 12),\n",
       " (388, datetime.datetime(2025, 4, 18, 10, 24, 8), 12)]"
      ]
     },
     "execution_count": 2,
     "metadata": {},
     "output_type": "execute_result"
    }
   ],
   "source": [
    "from datetime import datetime\n",
    "\n",
    "from poly_dataset_loader import (\n",
    "    query_token_timeseries_by_tokens,\n",
    "    query_asks_and_bids_by_timeseries,\n",
    ")\n",
    "\n",
    "ts = query_token_timeseries_by_tokens(tokens=tokens[9:10])\n",
    "ts = [(item[0], datetime.fromisoformat(item[1].split('.')[0]), item[2]) for item in ts]\n",
    "ts[0:10]"
   ]
  },
  {
   "cell_type": "code",
   "execution_count": 3,
   "id": "de15ba93",
   "metadata": {},
   "outputs": [
    {
     "data": {
      "text/plain": [
       "3653"
      ]
     },
     "execution_count": 3,
     "metadata": {},
     "output_type": "execute_result"
    }
   ],
   "source": [
    "len(ts)"
   ]
  },
  {
   "cell_type": "code",
   "execution_count": 4,
   "id": "4aae89b6",
   "metadata": {},
   "outputs": [
    {
     "data": {
      "text/plain": [
       "('2025-04-18 10:14:01', '2025-04-20 23:27:01')"
      ]
     },
     "execution_count": 4,
     "metadata": {},
     "output_type": "execute_result"
    }
   ],
   "source": [
    "str(min(ts, key=lambda x: x[1])[1]), str(max(ts, key=lambda x: x[1])[1])"
   ]
  },
  {
   "cell_type": "code",
   "execution_count": 19,
   "id": "e06ecf83",
   "metadata": {},
   "outputs": [
    {
     "name": "stdout",
     "output_type": "stream",
     "text": [
      "<class 'pandas.core.frame.DataFrame'>\n",
      "RangeIndex: 76557 entries, 0 to 76556\n",
      "Data columns (total 2 columns):\n",
      " #   Column         Non-Null Count  Dtype  \n",
      "---  ------         --------------  -----  \n",
      " 0   timeseries_id  76557 non-null  int64  \n",
      " 1   ask            76557 non-null  float64\n",
      "dtypes: float64(1), int64(1)\n",
      "memory usage: 1.2 MB\n"
     ]
    }
   ],
   "source": [
    "import sqlite3\n",
    "\n",
    "import pandas as pd\n",
    "from poly_dataset_loader import create_tables, get_database_dir\n",
    "\n",
    "\n",
    "db_dir = get_database_dir()\n",
    "conn = sqlite3.connect(db_dir / \"order_book.db\")\n",
    "cursor = conn.cursor()\n",
    "create_tables(cursor)\n",
    "\n",
    "ts = pd.read_sql_query(\n",
    "    \"\"\"\n",
    "    SELECT timeseries_id, timestamp, token_id\n",
    "    FROM token_timeseries\n",
    "    \"\"\",\n",
    "    conn,\n",
    ")\n",
    "ts['timestamp'] = pd.to_datetime(ts['timestamp'])\n",
    "\n",
    "asks = pd.read_sql_query(\n",
    "    \"SELECT timeseries_id, MAX(price) as ask FROM asks GROUP BY timeseries_id\", conn\n",
    ")\n",
    "bids = pd.read_sql_query(\n",
    "    \"SELECT timeseries_id, MIN(price) as bid FROM bids GROUP BY timeseries_id\", conn\n",
    ")\n",
    "\n",
    "conn.close()\n",
    "\n",
    "asks.info()"
   ]
  },
  {
   "cell_type": "code",
   "execution_count": 20,
   "id": "eba683e7",
   "metadata": {},
   "outputs": [
    {
     "name": "stdout",
     "output_type": "stream",
     "text": [
      "<class 'pandas.core.frame.DataFrame'>\n",
      "RangeIndex: 102408 entries, 0 to 102407\n",
      "Data columns (total 3 columns):\n",
      " #   Column         Non-Null Count   Dtype         \n",
      "---  ------         --------------   -----         \n",
      " 0   timeseries_id  102408 non-null  int64         \n",
      " 1   timestamp      102408 non-null  datetime64[ns]\n",
      " 2   token_id       102408 non-null  int64         \n",
      "dtypes: datetime64[ns](1), int64(2)\n",
      "memory usage: 2.3 MB\n",
      "<class 'pandas.core.frame.DataFrame'>\n",
      "RangeIndex: 76557 entries, 0 to 76556\n",
      "Data columns (total 2 columns):\n",
      " #   Column         Non-Null Count  Dtype  \n",
      "---  ------         --------------  -----  \n",
      " 0   timeseries_id  76557 non-null  int64  \n",
      " 1   ask            76557 non-null  float64\n",
      "dtypes: float64(1), int64(1)\n",
      "memory usage: 1.2 MB\n",
      "<class 'pandas.core.frame.DataFrame'>\n",
      "RangeIndex: 76557 entries, 0 to 76556\n",
      "Data columns (total 2 columns):\n",
      " #   Column         Non-Null Count  Dtype  \n",
      "---  ------         --------------  -----  \n",
      " 0   timeseries_id  76557 non-null  int64  \n",
      " 1   bid            76557 non-null  float64\n",
      "dtypes: float64(1), int64(1)\n",
      "memory usage: 1.2 MB\n"
     ]
    },
    {
     "data": {
      "text/plain": [
       "(None, None, None)"
      ]
     },
     "execution_count": 20,
     "metadata": {},
     "output_type": "execute_result"
    }
   ],
   "source": [
    "ts.info(), asks.info(), bids.info()"
   ]
  },
  {
   "cell_type": "code",
   "execution_count": 21,
   "id": "d715f9c3",
   "metadata": {},
   "outputs": [
    {
     "name": "stdout",
     "output_type": "stream",
     "text": [
      "<class 'pandas.core.frame.DataFrame'>\n",
      "Index: 2160 entries, 14 to 56095\n",
      "Data columns (total 3 columns):\n",
      " #   Column         Non-Null Count  Dtype         \n",
      "---  ------         --------------  -----         \n",
      " 0   timeseries_id  2160 non-null   int64         \n",
      " 1   timestamp      2160 non-null   datetime64[ns]\n",
      " 2   token_id       2160 non-null   int64         \n",
      "dtypes: datetime64[ns](1), int64(2)\n",
      "memory usage: 67.5 KB\n"
     ]
    },
    {
     "data": {
      "text/html": [
       "<div>\n",
       "<style scoped>\n",
       "    .dataframe tbody tr th:only-of-type {\n",
       "        vertical-align: middle;\n",
       "    }\n",
       "\n",
       "    .dataframe tbody tr th {\n",
       "        vertical-align: top;\n",
       "    }\n",
       "\n",
       "    .dataframe thead th {\n",
       "        text-align: right;\n",
       "    }\n",
       "</style>\n",
       "<table border=\"1\" class=\"dataframe\">\n",
       "  <thead>\n",
       "    <tr style=\"text-align: right;\">\n",
       "      <th></th>\n",
       "      <th>timeseries_id</th>\n",
       "      <th>timestamp</th>\n",
       "      <th>token_id</th>\n",
       "    </tr>\n",
       "  </thead>\n",
       "  <tbody>\n",
       "    <tr>\n",
       "      <th>14</th>\n",
       "      <td>15</td>\n",
       "      <td>2025-04-18 09:19:33.791081</td>\n",
       "      <td>1</td>\n",
       "    </tr>\n",
       "    <tr>\n",
       "      <th>15</th>\n",
       "      <td>16</td>\n",
       "      <td>2025-04-18 09:19:33.791081</td>\n",
       "      <td>2</td>\n",
       "    </tr>\n",
       "    <tr>\n",
       "      <th>62</th>\n",
       "      <td>63</td>\n",
       "      <td>2025-04-18 09:43:12.286864</td>\n",
       "      <td>1</td>\n",
       "    </tr>\n",
       "    <tr>\n",
       "      <th>63</th>\n",
       "      <td>64</td>\n",
       "      <td>2025-04-18 09:43:12.286864</td>\n",
       "      <td>2</td>\n",
       "    </tr>\n",
       "    <tr>\n",
       "      <th>292</th>\n",
       "      <td>293</td>\n",
       "      <td>2025-04-18 10:20:13.974474</td>\n",
       "      <td>1</td>\n",
       "    </tr>\n",
       "  </tbody>\n",
       "</table>\n",
       "</div>"
      ],
      "text/plain": [
       "     timeseries_id                  timestamp  token_id\n",
       "14              15 2025-04-18 09:19:33.791081         1\n",
       "15              16 2025-04-18 09:19:33.791081         2\n",
       "62              63 2025-04-18 09:43:12.286864         1\n",
       "63              64 2025-04-18 09:43:12.286864         2\n",
       "292            293 2025-04-18 10:20:13.974474         1"
      ]
     },
     "execution_count": 21,
     "metadata": {},
     "output_type": "execute_result"
    }
   ],
   "source": [
    "ts_with_huge_delay = ts[ts[\"timestamp\"].dt.second > 10]\n",
    "ts_with_huge_delay.info()\n",
    "ts_with_huge_delay.head()"
   ]
  },
  {
   "cell_type": "code",
   "execution_count": 26,
   "id": "8099b6ce",
   "metadata": {},
   "outputs": [
    {
     "name": "stdout",
     "output_type": "stream",
     "text": [
      "<class 'pandas.core.frame.DataFrame'>\n",
      "Index: 100248 entries, 0 to 102407\n",
      "Data columns (total 3 columns):\n",
      " #   Column         Non-Null Count   Dtype         \n",
      "---  ------         --------------   -----         \n",
      " 0   timeseries_id  100248 non-null  int64         \n",
      " 1   timestamp      100248 non-null  datetime64[ns]\n",
      " 2   token_id       100248 non-null  int64         \n",
      "dtypes: datetime64[ns](1), int64(2)\n",
      "memory usage: 3.1 MB\n"
     ]
    }
   ],
   "source": [
    "ts_filtered = ts.loc[~ts.index.isin(ts_with_huge_delay.index)].copy()\n",
    "\n",
    "ts_filtered['timestamp'] = ts_filtered['timestamp'].dt.floor('min')\n",
    "\n",
    "ts_filtered.info()"
   ]
  },
  {
   "cell_type": "code",
   "execution_count": 27,
   "id": "3f47659a",
   "metadata": {},
   "outputs": [
    {
     "name": "stdout",
     "output_type": "stream",
     "text": [
      "<class 'pandas.core.frame.DataFrame'>\n",
      "RangeIndex: 100248 entries, 0 to 100247\n",
      "Data columns (total 5 columns):\n",
      " #   Column         Non-Null Count   Dtype         \n",
      "---  ------         --------------   -----         \n",
      " 0   timeseries_id  100248 non-null  int64         \n",
      " 1   timestamp      100248 non-null  datetime64[ns]\n",
      " 2   token_id       100248 non-null  int64         \n",
      " 3   ask            74881 non-null   float64       \n",
      " 4   bid            74881 non-null   float64       \n",
      "dtypes: datetime64[ns](1), float64(2), int64(2)\n",
      "memory usage: 3.8 MB\n"
     ]
    },
    {
     "data": {
      "text/html": [
       "<div>\n",
       "<style scoped>\n",
       "    .dataframe tbody tr th:only-of-type {\n",
       "        vertical-align: middle;\n",
       "    }\n",
       "\n",
       "    .dataframe tbody tr th {\n",
       "        vertical-align: top;\n",
       "    }\n",
       "\n",
       "    .dataframe thead th {\n",
       "        text-align: right;\n",
       "    }\n",
       "</style>\n",
       "<table border=\"1\" class=\"dataframe\">\n",
       "  <thead>\n",
       "    <tr style=\"text-align: right;\">\n",
       "      <th></th>\n",
       "      <th>timeseries_id</th>\n",
       "      <th>timestamp</th>\n",
       "      <th>token_id</th>\n",
       "      <th>ask</th>\n",
       "      <th>bid</th>\n",
       "    </tr>\n",
       "  </thead>\n",
       "  <tbody>\n",
       "    <tr>\n",
       "      <th>0</th>\n",
       "      <td>1</td>\n",
       "      <td>2025-04-18 09:12:00</td>\n",
       "      <td>1</td>\n",
       "      <td>0.80</td>\n",
       "      <td>0.01</td>\n",
       "    </tr>\n",
       "    <tr>\n",
       "      <th>1</th>\n",
       "      <td>2</td>\n",
       "      <td>2025-04-18 09:12:00</td>\n",
       "      <td>2</td>\n",
       "      <td>0.99</td>\n",
       "      <td>0.20</td>\n",
       "    </tr>\n",
       "    <tr>\n",
       "      <th>2</th>\n",
       "      <td>3</td>\n",
       "      <td>2025-04-18 09:13:00</td>\n",
       "      <td>1</td>\n",
       "      <td>0.80</td>\n",
       "      <td>0.01</td>\n",
       "    </tr>\n",
       "    <tr>\n",
       "      <th>3</th>\n",
       "      <td>4</td>\n",
       "      <td>2025-04-18 09:13:00</td>\n",
       "      <td>2</td>\n",
       "      <td>0.99</td>\n",
       "      <td>0.20</td>\n",
       "    </tr>\n",
       "    <tr>\n",
       "      <th>4</th>\n",
       "      <td>5</td>\n",
       "      <td>2025-04-18 09:14:00</td>\n",
       "      <td>1</td>\n",
       "      <td>0.80</td>\n",
       "      <td>0.01</td>\n",
       "    </tr>\n",
       "  </tbody>\n",
       "</table>\n",
       "</div>"
      ],
      "text/plain": [
       "   timeseries_id           timestamp  token_id   ask   bid\n",
       "0              1 2025-04-18 09:12:00         1  0.80  0.01\n",
       "1              2 2025-04-18 09:12:00         2  0.99  0.20\n",
       "2              3 2025-04-18 09:13:00         1  0.80  0.01\n",
       "3              4 2025-04-18 09:13:00         2  0.99  0.20\n",
       "4              5 2025-04-18 09:14:00         1  0.80  0.01"
      ]
     },
     "execution_count": 27,
     "metadata": {},
     "output_type": "execute_result"
    }
   ],
   "source": [
    "ts_a = ts_filtered.merge(asks, on='timeseries_id', how='left')\n",
    "ts_ab = ts_a.merge(bids, on='timeseries_id', how='left')\n",
    "ts_ab.info()\n",
    "ts_ab.head()"
   ]
  },
  {
   "cell_type": "code",
   "execution_count": 30,
   "id": "8941af66",
   "metadata": {},
   "outputs": [
    {
     "name": "stdout",
     "output_type": "stream",
     "text": [
      "<class 'pandas.core.frame.DataFrame'>\n",
      "Index: 70970 entries, 0 to 100247\n",
      "Data columns (total 5 columns):\n",
      " #   Column         Non-Null Count  Dtype         \n",
      "---  ------         --------------  -----         \n",
      " 0   timeseries_id  70970 non-null  int64         \n",
      " 1   timestamp      70970 non-null  datetime64[ns]\n",
      " 2   token_id       70970 non-null  int64         \n",
      " 3   ask            70970 non-null  float64       \n",
      " 4   bid            70970 non-null  float64       \n",
      "dtypes: datetime64[ns](1), float64(2), int64(2)\n",
      "memory usage: 3.2 MB\n"
     ]
    }
   ],
   "source": [
    "ts_ab_filtered = ts_ab.dropna()\n",
    "ts_ab_filtered.info()"
   ]
  },
  {
   "cell_type": "code",
   "execution_count": 32,
   "id": "3ca86034",
   "metadata": {},
   "outputs": [
    {
     "data": {
      "text/plain": [
       "(np.float64(0.02003883330984924),\n",
       " np.float64(0.03967914945818073),\n",
       " np.float64(0.003),\n",
       " np.float64(0.98))"
      ]
     },
     "execution_count": 32,
     "metadata": {},
     "output_type": "execute_result"
    }
   ],
   "source": [
    "import numpy as np\n",
    "\n",
    "\n",
    "delta = (ts_ab_filtered[\"ask\"] - ts_ab_filtered[\"bid\"])\n",
    "np.mean(delta), np.std(delta), np.min(delta), np.max(delta)"
   ]
  },
  {
   "cell_type": "code",
   "execution_count": 31,
   "id": "429cf8e8",
   "metadata": {},
   "outputs": [
    {
     "name": "stdout",
     "output_type": "stream",
     "text": [
      "Created 22 groups\n",
      "<class 'pandas.core.frame.DataFrame'>\n",
      "DatetimeIndex: 3636 entries, 2025-04-18 09:12:00 to 2025-04-20 23:27:00\n",
      "Data columns (total 4 columns):\n",
      " #   Column         Non-Null Count  Dtype  \n",
      "---  ------         --------------  -----  \n",
      " 0   timeseries_id  3636 non-null   int64  \n",
      " 1   token_id       3636 non-null   int64  \n",
      " 2   ask            3636 non-null   float64\n",
      " 3   bid            3636 non-null   float64\n",
      "dtypes: float64(2), int64(2)\n",
      "memory usage: 142.0 KB\n"
     ]
    },
    {
     "data": {
      "text/html": [
       "<div>\n",
       "<style scoped>\n",
       "    .dataframe tbody tr th:only-of-type {\n",
       "        vertical-align: middle;\n",
       "    }\n",
       "\n",
       "    .dataframe tbody tr th {\n",
       "        vertical-align: top;\n",
       "    }\n",
       "\n",
       "    .dataframe thead th {\n",
       "        text-align: right;\n",
       "    }\n",
       "</style>\n",
       "<table border=\"1\" class=\"dataframe\">\n",
       "  <thead>\n",
       "    <tr style=\"text-align: right;\">\n",
       "      <th></th>\n",
       "      <th>timeseries_id</th>\n",
       "      <th>token_id</th>\n",
       "      <th>ask</th>\n",
       "      <th>bid</th>\n",
       "    </tr>\n",
       "    <tr>\n",
       "      <th>timestamp</th>\n",
       "      <th></th>\n",
       "      <th></th>\n",
       "      <th></th>\n",
       "      <th></th>\n",
       "    </tr>\n",
       "  </thead>\n",
       "  <tbody>\n",
       "    <tr>\n",
       "      <th>2025-04-18 09:12:00</th>\n",
       "      <td>1</td>\n",
       "      <td>1</td>\n",
       "      <td>0.8</td>\n",
       "      <td>0.01</td>\n",
       "    </tr>\n",
       "    <tr>\n",
       "      <th>2025-04-18 09:13:00</th>\n",
       "      <td>3</td>\n",
       "      <td>1</td>\n",
       "      <td>0.8</td>\n",
       "      <td>0.01</td>\n",
       "    </tr>\n",
       "    <tr>\n",
       "      <th>2025-04-18 09:14:00</th>\n",
       "      <td>5</td>\n",
       "      <td>1</td>\n",
       "      <td>0.8</td>\n",
       "      <td>0.01</td>\n",
       "    </tr>\n",
       "    <tr>\n",
       "      <th>2025-04-18 09:15:00</th>\n",
       "      <td>7</td>\n",
       "      <td>1</td>\n",
       "      <td>0.8</td>\n",
       "      <td>0.01</td>\n",
       "    </tr>\n",
       "    <tr>\n",
       "      <th>2025-04-18 09:16:00</th>\n",
       "      <td>9</td>\n",
       "      <td>1</td>\n",
       "      <td>0.8</td>\n",
       "      <td>0.01</td>\n",
       "    </tr>\n",
       "  </tbody>\n",
       "</table>\n",
       "</div>"
      ],
      "text/plain": [
       "                     timeseries_id  token_id  ask   bid\n",
       "timestamp                                              \n",
       "2025-04-18 09:12:00              1         1  0.8  0.01\n",
       "2025-04-18 09:13:00              3         1  0.8  0.01\n",
       "2025-04-18 09:14:00              5         1  0.8  0.01\n",
       "2025-04-18 09:15:00              7         1  0.8  0.01\n",
       "2025-04-18 09:16:00              9         1  0.8  0.01"
      ]
     },
     "execution_count": 31,
     "metadata": {},
     "output_type": "execute_result"
    }
   ],
   "source": [
    "\n",
    "df_by_token = [\n",
    "    group.set_index('timestamp')\n",
    "    for token_id, group in ts_ab_filtered.groupby('token_id')\n",
    "]\n",
    "\n",
    "print(f\"Created {len(df_by_token)} groups\")\n",
    "df_by_token[0].info()\n",
    "df_by_token[0].head()"
   ]
  }
 ],
 "metadata": {
  "kernelspec": {
   "display_name": "venv",
   "language": "python",
   "name": "python3"
  },
  "language_info": {
   "codemirror_mode": {
    "name": "ipython",
    "version": 3
   },
   "file_extension": ".py",
   "mimetype": "text/x-python",
   "name": "python",
   "nbconvert_exporter": "python",
   "pygments_lexer": "ipython3",
   "version": "3.13.2"
  }
 },
 "nbformat": 4,
 "nbformat_minor": 5
}

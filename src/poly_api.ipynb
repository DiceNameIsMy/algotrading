{
 "cells": [
  {
   "cell_type": "code",
   "execution_count": 2,
   "metadata": {},
   "outputs": [],
   "source": [
    "import importlib\n",
    "from datetime import datetime, timedelta\n",
    "\n",
    "from poly_api import poly_client\n"
   ]
  },
  {
   "cell_type": "code",
   "execution_count": 2,
   "metadata": {},
   "outputs": [
    {
     "data": {
      "text/plain": [
       "{'condition_id': '0x9deb0baac40648821f96f01339229a422e2f5c877de55dc4dbf981f95a1e709c',\n",
       " 'rewards': {'rates': None, 'min_size': 0, 'max_spread': 0},\n",
       " 'tokens': [{'token_id': '14270523446080509320829200481895961480205553513304203367521919818541658424782',\n",
       "   'outcome': 'Chiefs',\n",
       "   'price': 1,\n",
       "   'winner': False},\n",
       "  {'token_id': '93110170397161149119544349457822484949376809039410140245101963942162463626903',\n",
       "   'outcome': 'Raiders',\n",
       "   'price': 0,\n",
       "   'winner': False}],\n",
       " 'active': True,\n",
       " 'closed': True,\n",
       " 'archived': False,\n",
       " 'accepting_orders': False}"
      ]
     },
     "execution_count": 2,
     "metadata": {},
     "output_type": "execute_result"
    }
   ],
   "source": [
    "ss_markets = poly_client.get_simplified_markets()\n",
    "ss_markets[\"data\"][0]"
   ]
  },
  {
   "cell_type": "code",
   "execution_count": 3,
   "metadata": {},
   "outputs": [
    {
     "name": "stdout",
     "output_type": "stream",
     "text": [
      "Fetching markets with cursor OTAwMA==\n",
      "Loaded 500 markets\n",
      "First cursor with data found: OTUwMA==\n",
      "Found 3 crypto markets\n",
      "Fetching markets with cursor OTUwMA==\n",
      "Loaded 500 markets\n",
      "Found 2 crypto markets\n",
      "Fetching markets with cursor MTAwMDA=\n",
      "Loaded 500 markets\n",
      "Found 1 crypto markets\n",
      "Crypto markets found (6)\n",
      "Next cursor: MTA1MDA=\n"
     ]
    }
   ],
   "source": [
    "import time\n",
    "\n",
    "\n",
    "def find_crypto_markets(limit=10, max_queries=3, cursor=\"MA==\", condition=lambda m: m[\"tags\"] and \"Crypto\" in m[\"tags\"]):\n",
    "    found_any = False\n",
    "    crypto_markets = []\n",
    "\n",
    "    queries_made = 0\n",
    "    while (queries_made < max_queries) and (len(crypto_markets) < limit):\n",
    "        print(f\"Fetching markets with cursor {cursor}\")\n",
    "\n",
    "        markets = poly_client.get_markets(next_cursor=cursor)\n",
    "        cursor = markets[\"next_cursor\"]\n",
    "\n",
    "        print(f\"Loaded {len(markets[\"data\"])} markets\")\n",
    "\n",
    "        data = [m for m in markets[\"data\"] if condition(m)]\n",
    "        if data:\n",
    "            if not found_any:\n",
    "                print(f\"First cursor with data found: {cursor}\")\n",
    "                found_any = True\n",
    "\n",
    "        print(f\"Found {len(data)} crypto markets\")\n",
    "\n",
    "        crypto_markets += data\n",
    "        queries_made += 1\n",
    "\n",
    "        time.sleep(0.5)\n",
    "\n",
    "    markets = poly_client.get_markets()\n",
    "\n",
    "    if not crypto_markets:\n",
    "        print(\"No crypto markets found\")\n",
    "    else:\n",
    "        print(f\"Crypto markets found ({len(crypto_markets)})\")\n",
    "    \n",
    "    print(f\"Next cursor: {cursor}\")\n",
    "\n",
    "    return crypto_markets\n",
    "\n",
    "\n",
    "def is_btc_related_market(m):\n",
    "    return \"market_slug\" in m.keys() and (\"btc\" in m[\"market_slug\"])\n",
    "\n",
    "# def is_\n",
    "\n",
    "markets = find_crypto_markets(limit=10, cursor=\"OTAwMA==\", condition=is_btc_related_market)"
   ]
  },
  {
   "cell_type": "code",
   "execution_count": 4,
   "metadata": {},
   "outputs": [
    {
     "data": {
      "text/plain": [
       "[('https://polymarket.com/event/will-btc-reach-70k-in-july',\n",
       "  '0x7c1a2610911ea83b5e9a44d89201635c69919324d45e8deb92ef422b1dddc12b'),\n",
       " ('https://polymarket.com/event/will-btc-reach-80k-in-july',\n",
       "  '0x10bfd2053bfe798aa0fec72fc4aaf465b17b60afb453919ad2f366770042a8d7'),\n",
       " ('https://polymarket.com/event/will-btc-reach-75k-in-july',\n",
       "  '0x409bbbd78d6bf45cd67048fd9ef80f473152f82aef9f3dd275a616af7474cab7'),\n",
       " ('https://polymarket.com/event/will-btc-hit-50k-or-70k-first',\n",
       "  '0xf2830173b5e239e7db0509d4489105107225101cce05b41c1818b4b78e00d6e8'),\n",
       " ('https://polymarket.com/event/will-btc-or-eth-reach-all-time-high-first-2024',\n",
       "  ''),\n",
       " ('https://polymarket.com/event/will-a-presidential-candidate-say-mog-at-btc-conference',\n",
       "  '0x69e439c06b8ce7575d2dcb209a79a362981ec2c949cee41123e5c248807b9ed1')]"
      ]
     },
     "execution_count": 4,
     "metadata": {},
     "output_type": "execute_result"
    }
   ],
   "source": [
    "[(\"https://polymarket.com/event/\" + m[\"market_slug\"], m[\"condition_id\"]) for m in markets]\n"
   ]
  },
  {
   "cell_type": "code",
   "execution_count": 18,
   "metadata": {},
   "outputs": [
    {
     "data": {
      "text/plain": [
       "('This market will immediately resolve to \"Yes\" if any Binance 1 minute candle for Bitcoin (BTCUSDT) between April 1, 2025, 00:00 and April 30, 2025, 23:59 in the ET timezone has a final \"High\" price of $95,000 or higher. Otherwise, this market will resolve to \"No.\"\\n\\nThe resolution source for this market is Binance, specifically the BTCUSDT \"High\" prices available at https://www.binance.com/en/trade/BTC_USDT, with the chart settings on \"1m\" for one-minute candles selected on the top bar.\\n\\nPlease note that the outcome of this market depends solely on the price data from the Binance BTCUSDT trading pair. Prices from other exchanges, different trading pairs, or spot markets will not be considered for the resolution of this market.',\n",
       " [{'token_id': '113733303390103764159442829422332472444843638571953553342010572782499227977688',\n",
       "   'outcome': 'Yes',\n",
       "   'price': 0.14,\n",
       "   'winner': False},\n",
       "  {'token_id': '63580689056305536048863052547924937121791141239998704107552406492946329546681',\n",
       "   'outcome': 'No',\n",
       "   'price': 0.86,\n",
       "   'winner': False}])"
      ]
     },
     "execution_count": 18,
     "metadata": {},
     "output_type": "execute_result"
    }
   ],
   "source": [
    "market = poly_client.get_market(\"0x9d84821a6c8b45fcd9dad9f50f1b0fc6cb76de7a68d7686bfefba697c32a6375\")\n",
    "market[\"description\"], market[\"tokens\"]"
   ]
  },
  {
   "cell_type": "code",
   "execution_count": 19,
   "metadata": {},
   "outputs": [
    {
     "data": {
      "text/plain": [
       "[OrderBookSummary(market='0x9d84821a6c8b45fcd9dad9f50f1b0fc6cb76de7a68d7686bfefba697c32a6375', asset_id='113733303390103764159442829422332472444843638571953553342010572782499227977688', timestamp='1744954994671', bids=[OrderSummary(price='0.01', size='11638.66'), OrderSummary(price='0.02', size='15158.56'), OrderSummary(price='0.03', size='15000'), OrderSummary(price='0.04', size='17190.47'), OrderSummary(price='0.05', size='5313'), OrderSummary(price='0.06', size='16011'), OrderSummary(price='0.07', size='3522.04'), OrderSummary(price='0.08', size='4971'), OrderSummary(price='0.09', size='4919'), OrderSummary(price='0.1', size='3911'), OrderSummary(price='0.11', size='2410'), OrderSummary(price='0.12', size='3519'), OrderSummary(price='0.13', size='1620.69')], asks=[OrderSummary(price='0.8', size='500'), OrderSummary(price='0.79', size='760'), OrderSummary(price='0.7', size='333'), OrderSummary(price='0.69', size='100'), OrderSummary(price='0.49', size='12'), OrderSummary(price='0.41', size='13'), OrderSummary(price='0.4', size='382.41'), OrderSummary(price='0.36', size='5000'), OrderSummary(price='0.35', size='10'), OrderSummary(price='0.34', size='10'), OrderSummary(price='0.32', size='4000'), OrderSummary(price='0.31', size='10'), OrderSummary(price='0.3', size='2410'), OrderSummary(price='0.29', size='4900'), OrderSummary(price='0.28', size='2400'), OrderSummary(price='0.27', size='3900'), OrderSummary(price='0.26', size='3500'), OrderSummary(price='0.25', size='2493.33'), OrderSummary(price='0.24', size='14400'), OrderSummary(price='0.23', size='2400'), OrderSummary(price='0.22', size='4900'), OrderSummary(price='0.21', size='2400'), OrderSummary(price='0.2', size='3410'), OrderSummary(price='0.19', size='2400'), OrderSummary(price='0.18', size='4400'), OrderSummary(price='0.17', size='23428.87'), OrderSummary(price='0.16', size='4177.48'), OrderSummary(price='0.15', size='50')], hash='2f83f8d3f11d53c2b6adf864352d76910ebff758'),\n",
       " OrderBookSummary(market='0x9d84821a6c8b45fcd9dad9f50f1b0fc6cb76de7a68d7686bfefba697c32a6375', asset_id='63580689056305536048863052547924937121791141239998704107552406492946329546681', timestamp='1744954994671', bids=[OrderSummary(price='0.2', size='500'), OrderSummary(price='0.21', size='760'), OrderSummary(price='0.3', size='333'), OrderSummary(price='0.31', size='100'), OrderSummary(price='0.51', size='12'), OrderSummary(price='0.59', size='13'), OrderSummary(price='0.6', size='382.41'), OrderSummary(price='0.64', size='5000'), OrderSummary(price='0.65', size='10'), OrderSummary(price='0.66', size='10'), OrderSummary(price='0.68', size='4000'), OrderSummary(price='0.69', size='10'), OrderSummary(price='0.7', size='2410'), OrderSummary(price='0.71', size='4900'), OrderSummary(price='0.72', size='2400'), OrderSummary(price='0.73', size='3900'), OrderSummary(price='0.74', size='3500'), OrderSummary(price='0.75', size='2493.33'), OrderSummary(price='0.76', size='14400'), OrderSummary(price='0.77', size='2400'), OrderSummary(price='0.78', size='4900'), OrderSummary(price='0.79', size='2400'), OrderSummary(price='0.8', size='3410'), OrderSummary(price='0.81', size='2400'), OrderSummary(price='0.82', size='4400'), OrderSummary(price='0.83', size='23428.87'), OrderSummary(price='0.84', size='4177.48'), OrderSummary(price='0.85', size='50')], asks=[OrderSummary(price='0.99', size='11638.66'), OrderSummary(price='0.98', size='15158.56'), OrderSummary(price='0.97', size='15000'), OrderSummary(price='0.96', size='17190.47'), OrderSummary(price='0.95', size='5313'), OrderSummary(price='0.94', size='16011'), OrderSummary(price='0.93', size='3522.04'), OrderSummary(price='0.92', size='4971'), OrderSummary(price='0.91', size='4919'), OrderSummary(price='0.9', size='3911'), OrderSummary(price='0.89', size='2410'), OrderSummary(price='0.88', size='3519'), OrderSummary(price='0.87', size='1620.69')], hash='69affe0b1524b379f60efcc87802a6c5e4a48442')]"
      ]
     },
     "execution_count": 19,
     "metadata": {},
     "output_type": "execute_result"
    }
   ],
   "source": [
    "from py_clob_client.client import BookParams\n",
    "\n",
    "books = poly_client.get_order_books([BookParams(\"113733303390103764159442829422332472444843638571953553342010572782499227977688\"), BookParams(\"63580689056305536048863052547924937121791141239998704107552406492946329546681\")])\n",
    "books"
   ]
  },
  {
   "cell_type": "code",
   "execution_count": 25,
   "metadata": {},
   "outputs": [
    {
     "data": {
      "text/plain": [
       "([OrderSummary(price='0.01', size='11638.66'),\n",
       "  OrderSummary(price='0.02', size='15158.56'),\n",
       "  OrderSummary(price='0.03', size='15000'),\n",
       "  OrderSummary(price='0.04', size='17190.47'),\n",
       "  OrderSummary(price='0.05', size='5313'),\n",
       "  OrderSummary(price='0.06', size='16011'),\n",
       "  OrderSummary(price='0.07', size='3522.04'),\n",
       "  OrderSummary(price='0.08', size='4971'),\n",
       "  OrderSummary(price='0.09', size='4919'),\n",
       "  OrderSummary(price='0.1', size='3911'),\n",
       "  OrderSummary(price='0.11', size='2410'),\n",
       "  OrderSummary(price='0.12', size='3519'),\n",
       "  OrderSummary(price='0.13', size='1620.69')],\n",
       " [OrderSummary(price='0.15', size='50'),\n",
       "  OrderSummary(price='0.16', size='4177.48'),\n",
       "  OrderSummary(price='0.17', size='23428.87'),\n",
       "  OrderSummary(price='0.18', size='4400'),\n",
       "  OrderSummary(price='0.19', size='2400'),\n",
       "  OrderSummary(price='0.2', size='3410'),\n",
       "  OrderSummary(price='0.21', size='2400'),\n",
       "  OrderSummary(price='0.22', size='4900'),\n",
       "  OrderSummary(price='0.23', size='2400'),\n",
       "  OrderSummary(price='0.24', size='14400'),\n",
       "  OrderSummary(price='0.25', size='2493.33'),\n",
       "  OrderSummary(price='0.26', size='3500'),\n",
       "  OrderSummary(price='0.27', size='3900'),\n",
       "  OrderSummary(price='0.28', size='2400'),\n",
       "  OrderSummary(price='0.29', size='4900'),\n",
       "  OrderSummary(price='0.3', size='2410'),\n",
       "  OrderSummary(price='0.31', size='10'),\n",
       "  OrderSummary(price='0.32', size='4000'),\n",
       "  OrderSummary(price='0.34', size='10'),\n",
       "  OrderSummary(price='0.35', size='10'),\n",
       "  OrderSummary(price='0.36', size='5000'),\n",
       "  OrderSummary(price='0.4', size='382.41'),\n",
       "  OrderSummary(price='0.41', size='13'),\n",
       "  OrderSummary(price='0.49', size='12'),\n",
       "  OrderSummary(price='0.69', size='100'),\n",
       "  OrderSummary(price='0.7', size='333'),\n",
       "  OrderSummary(price='0.79', size='760'),\n",
       "  OrderSummary(price='0.8', size='500')])"
      ]
     },
     "execution_count": 25,
     "metadata": {},
     "output_type": "execute_result"
    }
   ],
   "source": [
    "sorted(books[0].bids, key=lambda x: x.price), sorted(books[0].asks, key=lambda x: x.price)"
   ]
  },
  {
   "cell_type": "code",
   "execution_count": null,
   "metadata": {},
   "outputs": [],
   "source": []
  },
  {
   "cell_type": "code",
   "execution_count": 7,
   "metadata": {},
   "outputs": [
    {
     "name": "stdout",
     "output_type": "stream",
     "text": [
      "<class 'pandas.core.frame.DataFrame'>\n",
      "DatetimeIndex: 336 entries, 2025-01-14 23:00:00 to 2025-01-28 22:00:00\n",
      "Data columns (total 2 columns):\n",
      " #   Column  Non-Null Count  Dtype  \n",
      "---  ------  --------------  -----  \n",
      " 0   Yes     336 non-null    float64\n",
      " 1   No      336 non-null    float64\n",
      "dtypes: float64(2)\n",
      "memory usage: 7.9 KB\n"
     ]
    }
   ],
   "source": [
    "import poly_api\n",
    "\n",
    "importlib.reload(poly_api)\n",
    "\n",
    "condition_id = \"0x906a2b90f30c62e09dce56fababafafbc4338cb8dac94ac6c3038327d0447180\"\n",
    "\n",
    "ts_options = poly_api.TSOptions(\n",
    "    60,\n",
    "    (datetime.fromisoformat(\"2025-01-15\"), datetime.fromisoformat(\"2025-01-29\")),\n",
    ")\n",
    "df = poly_api.get_poly_timeseries(\n",
    "    condition_id,\n",
    "    ts_options,\n",
    ")\n",
    "df.info()"
   ]
  },
  {
   "cell_type": "code",
   "execution_count": 8,
   "metadata": {},
   "outputs": [
    {
     "data": {
      "text/html": [
       "<div>\n",
       "<style scoped>\n",
       "    .dataframe tbody tr th:only-of-type {\n",
       "        vertical-align: middle;\n",
       "    }\n",
       "\n",
       "    .dataframe tbody tr th {\n",
       "        vertical-align: top;\n",
       "    }\n",
       "\n",
       "    .dataframe thead th {\n",
       "        text-align: right;\n",
       "    }\n",
       "</style>\n",
       "<table border=\"1\" class=\"dataframe\">\n",
       "  <thead>\n",
       "    <tr style=\"text-align: right;\">\n",
       "      <th></th>\n",
       "      <th>Yes</th>\n",
       "      <th>No</th>\n",
       "    </tr>\n",
       "    <tr>\n",
       "      <th>date</th>\n",
       "      <th></th>\n",
       "      <th></th>\n",
       "    </tr>\n",
       "  </thead>\n",
       "  <tbody>\n",
       "    <tr>\n",
       "      <th>2025-01-14 23:00:00</th>\n",
       "      <td>0.0095</td>\n",
       "      <td>0.9905</td>\n",
       "    </tr>\n",
       "    <tr>\n",
       "      <th>2025-01-15 00:00:00</th>\n",
       "      <td>0.0095</td>\n",
       "      <td>0.9905</td>\n",
       "    </tr>\n",
       "    <tr>\n",
       "      <th>2025-01-15 01:00:00</th>\n",
       "      <td>0.0095</td>\n",
       "      <td>0.9905</td>\n",
       "    </tr>\n",
       "    <tr>\n",
       "      <th>2025-01-15 02:00:00</th>\n",
       "      <td>0.0095</td>\n",
       "      <td>0.9905</td>\n",
       "    </tr>\n",
       "    <tr>\n",
       "      <th>2025-01-15 03:00:00</th>\n",
       "      <td>0.0100</td>\n",
       "      <td>0.9900</td>\n",
       "    </tr>\n",
       "  </tbody>\n",
       "</table>\n",
       "</div>"
      ],
      "text/plain": [
       "                        Yes      No\n",
       "date                               \n",
       "2025-01-14 23:00:00  0.0095  0.9905\n",
       "2025-01-15 00:00:00  0.0095  0.9905\n",
       "2025-01-15 01:00:00  0.0095  0.9905\n",
       "2025-01-15 02:00:00  0.0095  0.9905\n",
       "2025-01-15 03:00:00  0.0100  0.9900"
      ]
     },
     "execution_count": 8,
     "metadata": {},
     "output_type": "execute_result"
    }
   ],
   "source": [
    "df.head()"
   ]
  },
  {
   "cell_type": "code",
   "execution_count": null,
   "metadata": {},
   "outputs": [
    {
     "data": {
      "text/plain": [
       "{'enable_order_book': True,\n",
       " 'active': True,\n",
       " 'closed': False,\n",
       " 'archived': False,\n",
       " 'accepting_orders': True,\n",
       " 'accepting_order_timestamp': '2025-04-01T00:02:27Z',\n",
       " 'minimum_order_size': 5,\n",
       " 'minimum_tick_size': 0.01,\n",
       " 'condition_id': '0x9d84821a6c8b45fcd9dad9f50f1b0fc6cb76de7a68d7686bfefba697c32a6375',\n",
       " 'question_id': '0x6d1c56a18894833ddb876dde83ac4e3871522e06397e6f90f8e3019455a46e5f',\n",
       " 'question': 'Will Bitcoin reach $95k in April?',\n",
       " 'description': 'This market will immediately resolve to \"Yes\" if any Binance 1 minute candle for Bitcoin (BTCUSDT) between April 1, 2025, 00:00 and April 30, 2025, 23:59 in the ET timezone has a final \"High\" price of $95,000 or higher. Otherwise, this market will resolve to \"No.\"\\n\\nThe resolution source for this market is Binance, specifically the BTCUSDT \"High\" prices available at https://www.binance.com/en/trade/BTC_USDT, with the chart settings on \"1m\" for one-minute candles selected on the top bar.\\n\\nPlease note that the outcome of this market depends solely on the price data from the Binance BTCUSDT trading pair. Prices from other exchanges, different trading pairs, or spot markets will not be considered for the resolution of this market.',\n",
       " 'market_slug': 'will-bitcoin-reach-95k-in-april',\n",
       " 'end_date_iso': '2025-04-30T00:00:00Z',\n",
       " 'game_start_time': None,\n",
       " 'seconds_delay': 0,\n",
       " 'fpmm': '',\n",
       " 'maker_base_fee': 0,\n",
       " 'taker_base_fee': 0,\n",
       " 'notifications_enabled': True,\n",
       " 'neg_risk': False,\n",
       " 'neg_risk_market_id': '',\n",
       " 'neg_risk_request_id': '',\n",
       " 'icon': 'https://polymarket-upload.s3.us-east-2.amazonaws.com/bitcoin+colors.jpeg',\n",
       " 'image': 'https://polymarket-upload.s3.us-east-2.amazonaws.com/bitcoin+colors.jpeg',\n",
       " 'rewards': {'rates': [{'asset_address': '0x2791Bca1f2de4661ED88A30C99A7a9449Aa84174',\n",
       "    'rewards_daily_rate': 5}],\n",
       "  'min_size': 100,\n",
       "  'max_spread': 3.5},\n",
       " 'is_50_50_outcome': False,\n",
       " 'tokens': [{'token_id': '113733303390103764159442829422332472444843638571953553342010572782499227977688',\n",
       "   'outcome': 'Yes',\n",
       "   'price': 0.145,\n",
       "   'winner': False},\n",
       "  {'token_id': '63580689056305536048863052547924937121791141239998704107552406492946329546681',\n",
       "   'outcome': 'No',\n",
       "   'price': 0.855,\n",
       "   'winner': False}],\n",
       " 'tags': ['Crypto', 'Bitcoin', 'Crypto Prices', 'Recurring']}"
      ]
     },
     "execution_count": 48,
     "metadata": {},
     "output_type": "execute_result"
    }
   ],
   "source": [
    "market = poly_client.get_market(\"0x9d84821a6c8b45fcd9dad9f50f1b0fc6cb76de7a68d7686bfefba697c32a6375\")\n",
    "market"
   ]
  },
  {
   "cell_type": "code",
   "execution_count": 35,
   "metadata": {},
   "outputs": [],
   "source": [
    "import poly_dataset_loader\n",
    "importlib.reload(poly_dataset_loader)\n",
    "\n",
    "tokens, timestamp, asks, bids = poly_dataset_loader.load_order_book([\"0x9d84821a6c8b45fcd9dad9f50f1b0fc6cb76de7a68d7686bfefba697c32a6375\"])"
   ]
  },
  {
   "cell_type": "code",
   "execution_count": 36,
   "metadata": {},
   "outputs": [
    {
     "data": {
      "text/plain": [
       "[TokenTable(token='113733303390103764159442829422332472444843638571953553342010572782499227977688', market_id='0x9d84821a6c8b45fcd9dad9f50f1b0fc6cb76de7a68d7686bfefba697c32a6375', token_type='Yes'),\n",
       " TokenTable(token='63580689056305536048863052547924937121791141239998704107552406492946329546681', market_id='0x9d84821a6c8b45fcd9dad9f50f1b0fc6cb76de7a68d7686bfefba697c32a6375', token_type='No')]"
      ]
     },
     "execution_count": 36,
     "metadata": {},
     "output_type": "execute_result"
    }
   ],
   "source": [
    "tokens"
   ]
  },
  {
   "cell_type": "code",
   "execution_count": 38,
   "metadata": {},
   "outputs": [
    {
     "data": {
      "text/plain": [
       "([OrderItem(token='113733303390103764159442829422332472444843638571953553342010572782499227977688', price='0.15', size='4617.48'),\n",
       "  OrderItem(token='113733303390103764159442829422332472444843638571953553342010572782499227977688', price='0.16', size='3879'),\n",
       "  OrderItem(token='113733303390103764159442829422332472444843638571953553342010572782499227977688', price='0.17', size='6577.87'),\n",
       "  OrderItem(token='63580689056305536048863052547924937121791141239998704107552406492946329546681', price='0.86', size='2800'),\n",
       "  OrderItem(token='63580689056305536048863052547924937121791141239998704107552406492946329546681', price='0.87', size='4120.69'),\n",
       "  OrderItem(token='63580689056305536048863052547924937121791141239998704107552406492946329546681', price='0.88', size='3778')],\n",
       " [OrderItem(token='113733303390103764159442829422332472444843638571953553342010572782499227977688', price='0.12', size='3778'),\n",
       "  OrderItem(token='113733303390103764159442829422332472444843638571953553342010572782499227977688', price='0.13', size='4120.69'),\n",
       "  OrderItem(token='113733303390103764159442829422332472444843638571953553342010572782499227977688', price='0.14', size='2800'),\n",
       "  OrderItem(token='63580689056305536048863052547924937121791141239998704107552406492946329546681', price='0.83', size='6577.87'),\n",
       "  OrderItem(token='63580689056305536048863052547924937121791141239998704107552406492946329546681', price='0.84', size='3879'),\n",
       "  OrderItem(token='63580689056305536048863052547924937121791141239998704107552406492946329546681', price='0.85', size='4617.48')])"
      ]
     },
     "execution_count": 38,
     "metadata": {},
     "output_type": "execute_result"
    }
   ],
   "source": [
    "asks, bids"
   ]
  },
  {
   "cell_type": "code",
   "execution_count": null,
   "metadata": {},
   "outputs": [
    {
     "data": {
      "text/plain": [
       "[OrderSummary(price='0.85', size='4717.48'),\n",
       " OrderSummary(price='0.84', size='3879'),\n",
       " OrderSummary(price='0.83', size='15987.87'),\n",
       " OrderSummary(price='0.82', size='4410'),\n",
       " OrderSummary(price='0.81', size='2400'),\n",
       " OrderSummary(price='0.8', size='3410'),\n",
       " OrderSummary(price='0.79', size='2400'),\n",
       " OrderSummary(price='0.78', size='4900'),\n",
       " OrderSummary(price='0.77', size='14400'),\n",
       " OrderSummary(price='0.76', size='2400'),\n",
       " OrderSummary(price='0.75', size='2493.33'),\n",
       " OrderSummary(price='0.74', size='2500'),\n",
       " OrderSummary(price='0.73', size='3400'),\n",
       " OrderSummary(price='0.72', size='3900'),\n",
       " OrderSummary(price='0.71', size='2400'),\n",
       " OrderSummary(price='0.7', size='4910'),\n",
       " OrderSummary(price='0.69', size='10'),\n",
       " OrderSummary(price='0.67', size='4000'),\n",
       " OrderSummary(price='0.66', size='10'),\n",
       " OrderSummary(price='0.65', size='10'),\n",
       " OrderSummary(price='0.63', size='5000'),\n",
       " OrderSummary(price='0.6', size='382.41'),\n",
       " OrderSummary(price='0.59', size='13'),\n",
       " OrderSummary(price='0.51', size='12'),\n",
       " OrderSummary(price='0.31', size='100'),\n",
       " OrderSummary(price='0.3', size='333'),\n",
       " OrderSummary(price='0.21', size='760'),\n",
       " OrderSummary(price='0.2', size='500'),\n",
       " OrderSummary(price='0.01', size='12000')]"
      ]
     },
     "execution_count": 7,
     "metadata": {},
     "output_type": "execute_result"
    }
   ],
   "source": [
    "from py_clob_client.client import BookParams\n",
    "\n",
    "tokens = [\"63580689056305536048863052547924937121791141239998704107552406492946329546681\"]\n",
    "\n",
    "order_book = poly_client.get_order_books([BookParams(t) for t in tokens])[0]"
   ]
  },
  {
   "cell_type": "code",
   "execution_count": 26,
   "metadata": {},
   "outputs": [
    {
     "data": {
      "text/plain": [
       "[OrderSummary(price='0.01', size='12000'),\n",
       " OrderSummary(price='0.2', size='500'),\n",
       " OrderSummary(price='0.21', size='760'),\n",
       " OrderSummary(price='0.3', size='333'),\n",
       " OrderSummary(price='0.31', size='100'),\n",
       " OrderSummary(price='0.51', size='12'),\n",
       " OrderSummary(price='0.59', size='13'),\n",
       " OrderSummary(price='0.6', size='382.41'),\n",
       " OrderSummary(price='0.63', size='5000'),\n",
       " OrderSummary(price='0.65', size='10'),\n",
       " OrderSummary(price='0.66', size='10'),\n",
       " OrderSummary(price='0.67', size='4000'),\n",
       " OrderSummary(price='0.69', size='10'),\n",
       " OrderSummary(price='0.7', size='4910'),\n",
       " OrderSummary(price='0.71', size='2400'),\n",
       " OrderSummary(price='0.72', size='3900'),\n",
       " OrderSummary(price='0.73', size='3400'),\n",
       " OrderSummary(price='0.74', size='2500'),\n",
       " OrderSummary(price='0.75', size='2493.33'),\n",
       " OrderSummary(price='0.76', size='2400'),\n",
       " OrderSummary(price='0.77', size='14400'),\n",
       " OrderSummary(price='0.78', size='4900'),\n",
       " OrderSummary(price='0.79', size='2400'),\n",
       " OrderSummary(price='0.8', size='3410'),\n",
       " OrderSummary(price='0.81', size='2400'),\n",
       " OrderSummary(price='0.82', size='4410'),\n",
       " OrderSummary(price='0.83', size='15987.87'),\n",
       " OrderSummary(price='0.84', size='3879'),\n",
       " OrderSummary(price='0.85', size='4717.48')]"
      ]
     },
     "execution_count": 26,
     "metadata": {},
     "output_type": "execute_result"
    }
   ],
   "source": [
    "\n",
    "sorted(order_book.bids, key=lambda x: x.price)\n"
   ]
  }
 ],
 "metadata": {
  "kernelspec": {
   "display_name": "venv",
   "language": "python",
   "name": "python3"
  },
  "language_info": {
   "codemirror_mode": {
    "name": "ipython",
    "version": 3
   },
   "file_extension": ".py",
   "mimetype": "text/x-python",
   "name": "python",
   "nbconvert_exporter": "python",
   "pygments_lexer": "ipython3",
   "version": "3.13.2"
  }
 },
 "nbformat": 4,
 "nbformat_minor": 2
}

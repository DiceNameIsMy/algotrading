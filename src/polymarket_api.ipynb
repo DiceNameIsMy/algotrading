{
 "cells": [
  {
   "cell_type": "code",
   "execution_count": null,
   "metadata": {},
   "outputs": [],
   "source": [
    "import os\n",
    "from datetime import datetime\n",
    "from py_clob_client.client import get\n",
    "\n",
    "from py_clob_client.constants import POLYGON\n",
    "from py_clob_client.client import ClobClient\n",
    "\n",
    "host = \"https://clob.polymarket.com\"\n",
    "key = os.getenv(\"POLYMARKET_PRIVATE_KEY\")\n",
    "chain_id = POLYGON\n",
    "\n",
    "\n",
    "class MyClobClient(ClobClient):\n",
    "    def get_timeseries(\n",
    "        self,\n",
    "        market: str,\n",
    "        start_ts: datetime,\n",
    "        end_ts: datetime,\n",
    "        fidelity_in_minutes: int,\n",
    "    ):\n",
    "        \"\"\"\n",
    "        Parameters:\n",
    "            market: aka token_id\n",
    "            start_ts\n",
    "            end_ts\n",
    "            fidelity\n",
    "\n",
    "        Returns:\n",
    "            TODO\n",
    "        \"\"\"\n",
    "\n",
    "        # Source: https://docs.polymarket.com/#timeseries-data\n",
    "        request_url = \"{}{}?market={}&startTs={}&endTs={}&fidelity={}\".format(\n",
    "            self.host,\n",
    "            \"/prices-history\",\n",
    "            market,\n",
    "            int(start_ts.timestamp()),\n",
    "            int(end_ts.timestamp()),\n",
    "            fidelity_in_minutes,\n",
    "        )\n",
    "        print(request_url)\n",
    "        return get(request_url)\n",
    "\n",
    "\n",
    "client = MyClobClient(host, key=key, chain_id=chain_id)\n",
    "client.set_api_creds(client.create_or_derive_api_creds())"
   ]
  },
  {
   "cell_type": "code",
   "execution_count": 48,
   "metadata": {},
   "outputs": [
    {
     "name": "stdout",
     "output_type": "stream",
     "text": [
      "https://clob.polymarket.com/prices-history?market=82927494066775506689099766141381125044040984047946118898947348013267483041764&startTs=1741103758&endTs=1741190158&fidelity=60\n"
     ]
    },
    {
     "data": {
      "text/plain": [
       "{'history': [{'t': 1741104005, 'p': 0.245},\n",
       "  {'t': 1741107605, 'p': 0.265},\n",
       "  {'t': 1741111205, 'p': 0.285},\n",
       "  {'t': 1741114805, 'p': 0.3},\n",
       "  {'t': 1741118405, 'p': 0.33},\n",
       "  {'t': 1741122005, 'p': 0.335},\n",
       "  {'t': 1741125605, 'p': 0.345},\n",
       "  {'t': 1741129205, 'p': 0.345},\n",
       "  {'t': 1741132804, 'p': 0.345},\n",
       "  {'t': 1741136404, 'p': 0.335},\n",
       "  {'t': 1741140005, 'p': 0.34},\n",
       "  {'t': 1741143605, 'p': 0.335},\n",
       "  {'t': 1741147205, 'p': 0.33},\n",
       "  {'t': 1741150805, 'p': 0.335},\n",
       "  {'t': 1741154405, 'p': 0.34},\n",
       "  {'t': 1741158005, 'p': 0.345},\n",
       "  {'t': 1741161605, 'p': 0.345},\n",
       "  {'t': 1741165205, 'p': 0.345},\n",
       "  {'t': 1741168804, 'p': 0.35},\n",
       "  {'t': 1741172405, 'p': 0.39},\n",
       "  {'t': 1741176004, 'p': 0.39},\n",
       "  {'t': 1741179604, 'p': 0.42},\n",
       "  {'t': 1741183204, 'p': 0.385},\n",
       "  {'t': 1741186804, 'p': 0.375},\n",
       "  {'t': 1741190105, 'p': 0.365}]}"
      ]
     },
     "execution_count": 48,
     "metadata": {},
     "output_type": "execute_result"
    }
   ],
   "source": [
    "from datetime import timedelta\n",
    "\n",
    "\n",
    "ts = client.get_timeseries(\n",
    "    \"82927494066775506689099766141381125044040984047946118898947348013267483041764\",\n",
    "    datetime.now() - timedelta(days=1),\n",
    "    datetime.now(),\n",
    "    60,\n",
    ")\n",
    "ts"
   ]
  },
  {
   "cell_type": "code",
   "execution_count": 29,
   "metadata": {},
   "outputs": [
    {
     "data": {
      "text/plain": [
       "{'condition_id': '0x9deb0baac40648821f96f01339229a422e2f5c877de55dc4dbf981f95a1e709c',\n",
       " 'rewards': {'rates': None, 'min_size': 0, 'max_spread': 0},\n",
       " 'tokens': [{'token_id': '14270523446080509320829200481895961480205553513304203367521919818541658424782',\n",
       "   'outcome': 'Chiefs',\n",
       "   'price': 1,\n",
       "   'winner': False},\n",
       "  {'token_id': '93110170397161149119544349457822484949376809039410140245101963942162463626903',\n",
       "   'outcome': 'Raiders',\n",
       "   'price': 0,\n",
       "   'winner': False}],\n",
       " 'active': True,\n",
       " 'closed': True,\n",
       " 'archived': False,\n",
       " 'accepting_orders': False}"
      ]
     },
     "execution_count": 29,
     "metadata": {},
     "output_type": "execute_result"
    }
   ],
   "source": [
    "ss_markets = client.get_simplified_markets()\n",
    "ss_markets[\"data\"][0]"
   ]
  },
  {
   "cell_type": "code",
   "execution_count": null,
   "metadata": {},
   "outputs": [
    {
     "name": "stdout",
     "output_type": "stream",
     "text": [
      "Fetching markets with cursor NTAwMA==\n",
      "['Music', 'janelle monae', 'album of the year', 'Awards', 'Taylor Swift', 'miley cyrus', 'olivia rodrigo', 'boygenius', 'world music radio', 'sza', 'lana del rey', 'jon batiste', 'entertainment', 'midnights', 'All', 'Grammys']\n",
      "First cursor with data found: NTUwMA==\n",
      "Found 6 crypto markets\n",
      "Fetching markets with cursor NTUwMA==\n",
      "['All']\n",
      "Found 14 crypto markets\n",
      "Crypto markets found (20)\n",
      "Next cursor: NjAwMA==\n"
     ]
    }
   ],
   "source": [
    "import time\n",
    "\n",
    "\n",
    "def find_crypto_markets(limit=10, max_queries=3, cursor=\"MA==\", condition=lambda m: m[\"tags\"] and \"Crypto\" in m[\"tags\"]):\n",
    "    found_any = False\n",
    "    crypto_markets = []\n",
    "\n",
    "    queries_made = 0\n",
    "    while (queries_made < max_queries) and (len(crypto_markets) < limit):\n",
    "        print(f\"Fetching markets with cursor {cursor}\")\n",
    "\n",
    "        markets = client.get_markets(next_cursor=cursor)\n",
    "        cursor = markets[\"next_cursor\"]\n",
    "\n",
    "        data = [m for m in markets[\"data\"] if condition(m)]\n",
    "        if data:\n",
    "            if not found_any:\n",
    "                print(f\"First cursor with data found: {cursor}\")\n",
    "                found_any = True\n",
    "\n",
    "        print(f\"Found {len(data)} crypto markets\")\n",
    "\n",
    "        crypto_markets += data\n",
    "        queries_made += 1\n",
    "\n",
    "        time.sleep(0.5)\n",
    "\n",
    "    markets = client.get_markets()\n",
    "\n",
    "    if not crypto_markets:\n",
    "        print(\"No crypto markets found\")\n",
    "    else:\n",
    "        print(f\"Crypto markets found ({len(crypto_markets)})\")\n",
    "    \n",
    "    print(f\"Next cursor: {cursor}\")\n",
    "\n",
    "    return crypto_markets\n",
    "\n",
    "\n",
    "def is_btc_related_market(m):\n",
    "    return m[\"question\"] and (\"btc\" in m[\"slug\"])\n",
    "\n",
    "# def is_\n",
    "\n",
    "markets = find_crypto_markets(limit=10, cursor=\"NTAwMA==\", condition=is_btc_related_market)"
   ]
  },
  {
   "cell_type": "code",
   "execution_count": 19,
   "metadata": {},
   "outputs": [
    {
     "data": {
      "text/plain": [
       "{'enable_order_book': False,\n",
       " 'active': True,\n",
       " 'closed': True,\n",
       " 'archived': False,\n",
       " 'accepting_orders': True,\n",
       " 'accepting_order_timestamp': None,\n",
       " 'minimum_order_size': 5,\n",
       " 'minimum_tick_size': 0.001,\n",
       " 'condition_id': '0x40a93ba2e52a40676801cb144050bd4fc64ddedb778f13f2ade72d61a89dee8b',\n",
       " 'question_id': '0x5e3f3582f9f098240b934c7a8143d43fdb09b13e06fce5bc85a59201f457ec62',\n",
       " 'question': 'Will BTC hit $50,000 in February?',\n",
       " 'description': 'This market will immediately resolve to “Yes” if any Coinbase 1 minute candle for bitcoin BTC-USD between 1 Feb \\'24 00:00 and 29 Feb \\'24 23:59 in the ET timezone has a final “High” price of 50,000.00 or higher. Otherwise, this market will resolve to \"No\".\\n\\nThe resolution source for this market is https://www.coinbase.com/, specifically the BTC-USD \"High\" prices currently available at https://www.coinbase.com/advanced-trade/BTC-USD with “1m” and “Candles” selected on the top bar.\\n\\nTo see the \"High\" prices, mouse over particular candles and look at the value \"H\" at the top of the chart.\\n\\nPlease note that this market is about the price according to Coinbase BTC-USD, not according to other sources or spot markets.',\n",
       " 'market_slug': 'will-btc-hit-50000-in-february',\n",
       " 'end_date_iso': '2024-02-29T00:00:00Z',\n",
       " 'game_start_time': None,\n",
       " 'seconds_delay': 0,\n",
       " 'fpmm': '0x14579152ACef57D9561ACE8ac1A5D989dA561129',\n",
       " 'maker_base_fee': 0,\n",
       " 'taker_base_fee': 0,\n",
       " 'notifications_enabled': True,\n",
       " 'neg_risk': False,\n",
       " 'neg_risk_market_id': '',\n",
       " 'neg_risk_request_id': '',\n",
       " 'icon': 'https://polymarket-upload.s3.us-east-2.amazonaws.com/DALL%C2%B7E+2023-12-26+12.46.21+-+A+close-up+image+focusing+on+the+Bitcoin+logo+on+the+side+of+a+rocket+ship.+The+Bitcoin+logo+is+prominently+displayed%2C+with+clear+and+sharp+details.+T.png',\n",
       " 'image': 'https://polymarket-upload.s3.us-east-2.amazonaws.com/DALL%C2%B7E+2023-12-26+12.46.21+-+A+close-up+image+focusing+on+the+Bitcoin+logo+on+the+side+of+a+rocket+ship.+The+Bitcoin+logo+is+prominently+displayed%2C+with+clear+and+sharp+details.+T.png',\n",
       " 'rewards': {'rates': None, 'min_size': 0, 'max_spread': 0},\n",
       " 'is_50_50_outcome': False,\n",
       " 'tokens': [{'token_id': '12841268746827148649109502746148701003585044456541747239439883464233051097299',\n",
       "   'outcome': 'Yes',\n",
       "   'price': 1,\n",
       "   'winner': True},\n",
       "  {'token_id': '13219977956080103458014224464118572285851406373589291084611321385138271615305',\n",
       "   'outcome': 'No',\n",
       "   'price': 0,\n",
       "   'winner': False}],\n",
       " 'tags': ['Bitcoin', 'cryptocurrency', 'finance', 'market predictions', 'All']}"
      ]
     },
     "execution_count": 19,
     "metadata": {},
     "output_type": "execute_result"
    }
   ],
   "source": [
    "markets[0]"
   ]
  },
  {
   "cell_type": "code",
   "execution_count": 20,
   "metadata": {},
   "outputs": [
    {
     "data": {
      "text/plain": [
       "[('https://polymarket.com/event/will-btc-hit-50000-in-february',\n",
       "  '0x40a93ba2e52a40676801cb144050bd4fc64ddedb778f13f2ade72d61a89dee8b'),\n",
       " ('https://polymarket.com/event/will-btc-hit-55000-in-february',\n",
       "  '0x8771fe78b111e770a6d61cb3957a9667b05e06dc8fb357564be69f2d732f09fe'),\n",
       " ('https://polymarket.com/event/will-mtgox-btc-distribution-start-in-march',\n",
       "  ''),\n",
       " ('https://polymarket.com/event/will-mtgox-btc-distribution-start-in-april',\n",
       "  ''),\n",
       " ('https://polymarket.com/event/will-mtgox-btc-distribution-start-in-february',\n",
       "  ''),\n",
       " ('https://polymarket.com/event/will-mtgox-btc-distribution-start-in-january',\n",
       "  ''),\n",
       " ('https://polymarket.com/event/will-btc-hit-80000-in-march',\n",
       "  '0x9680e41769b76d79cddffb9ace729d5141d8b5d94b5277461595031de5da3534'),\n",
       " ('https://polymarket.com/event/will-btc-hit-60000-in-march',\n",
       "  '0x0026f721f4dd4caef4c1adff3aae56a6938141b7996a5c86e5879e80b9340e7a'),\n",
       " ('https://polymarket.com/event/archwill-btc-hit-100000-in-march',\n",
       "  '0xdf37d07f56bbc6de331067f0726ca00513a4c584c39bcaf6b49072c73ca590b7'),\n",
       " ('https://polymarket.com/event/no-btc-all-time-high-in-2024',\n",
       "  '0x6191de87c292a4aa3c7c4aa8225d1c796bd222503ff315d1554108f51bba7218'),\n",
       " ('https://polymarket.com/event/archwill-btc-hit-80000-in-march',\n",
       "  '0x912a5a835f901ade6878711726454eb491befe5cd8c5d5e953e29c7ae51c3d49'),\n",
       " ('https://polymarket.com/event/archwill-btc-hit-65000-in-march',\n",
       "  '0x9b053fdc6ae3346ec3e392a144c8af8a03aec8b8bed9d696d4c8152b608e4f77'),\n",
       " ('https://polymarket.com/event/will-btc-hit-60000-in-february',\n",
       "  '0x354bf3b33d711e5bfcbf2bbc2a3c506f5d918893dfa31f2d2bbf8075b3d5f17d'),\n",
       " ('https://polymarket.com/event/will-btc-hit-100000-in-march',\n",
       "  '0xe7b84d9cf7388fab81938f3f07dbc78de06ee302052e9152a016707c79baa75b'),\n",
       " ('https://polymarket.com/event/will-btc-hit-70000-in-march',\n",
       "  '0xaccba604009082b49817b6a78536d2d568719fc3f75e35fd8c58efde2c400bc1'),\n",
       " ('https://polymarket.com/event/archwill-btc-hit-90000-in-march',\n",
       "  '0x6cfcf22cf7ab4bdbb90795d5ebd27032881058ab39e3aa78222bf1f832f7fdf6'),\n",
       " ('https://polymarket.com/event/will-btc-hit-90000-in-march',\n",
       "  '0x8657be23cc69d2fb42695f4dbfe525ed3903f2694487e53b4a72a25bcc3d8838'),\n",
       " ('https://polymarket.com/event/archwill-btc-hit-70000-in-march',\n",
       "  '0x0094e76014f604ecffb11a250663e6ca8960c4db9d269536ad47e532476f1f3b'),\n",
       " ('https://polymarket.com/event/will-btc-hit-65000-in-march',\n",
       "  '0xf4d6bb94b2a5a1e395878203d7f348496bc7913efeecdf5d9c5e4274168f0ecd'),\n",
       " ('https://polymarket.com/event/archwill-btc-hit-60000-in-march',\n",
       "  '0x6547e0197cccd5c5f8207d6505bc7089cc14a590d45a71a103f08a03eeac4c04')]"
      ]
     },
     "execution_count": 20,
     "metadata": {},
     "output_type": "execute_result"
    }
   ],
   "source": [
    "[(\"https://polymarket.com/event/\" + m[\"market_slug\"], m[\"condition_id\"]) for m in markets]\n"
   ]
  },
  {
   "cell_type": "code",
   "execution_count": 42,
   "metadata": {},
   "outputs": [
    {
     "data": {
      "text/plain": [
       "{'enable_order_book': True,\n",
       " 'active': True,\n",
       " 'closed': False,\n",
       " 'archived': False,\n",
       " 'accepting_orders': True,\n",
       " 'accepting_order_timestamp': '2025-01-07T16:59:09Z',\n",
       " 'minimum_order_size': 5,\n",
       " 'minimum_tick_size': 0.01,\n",
       " 'condition_id': '0xa9444a9067fb2958ac36dd3f0ea25c07da5c39dc595643280b5ec037334b75de',\n",
       " 'question_id': '0xb6a17e6442f360824cc866b24ef43b20598fc2eebe395cebd189c48f33b5d258',\n",
       " 'question': 'Bitcoin up in Q1 2025?',\n",
       " 'description': 'This market will resolve to \"Up\" if the Binance 1 minute candle for BTCUSDT on 31 March \\'25 23:59 in the ET timezone has a final “close” price is higher than 93,445.45.\\n\\nThis market will resolve to \"Down\" if the Binance 1 minute candle for BTCUSDT on 31 March \\'25 23:59 in the ET timezone has a final “close” price is lower than 93,445.45.\\n\\nThis market will resolve to \"50-50\" if the Binance 1 minute candle for BTCUSDT on 31 March \\'25 23:59 in the ET timezone has a final “close” price is of precisely 93,445.45.\\n\\nThe resolution source for this market is Binance, specifically the BTCUSDT \"close\" prices currently available at https://www.binance.com/en/trade/BTC_USDT with “1m” and “Candles” selected on the top bar.\\n\\nPlease note that this market is about the price according to Binance BTCUSDT, not according to other sources or spot markets.\\n',\n",
       " 'market_slug': 'bitcoin-up-in-q1-2025',\n",
       " 'end_date_iso': '2025-03-31T00:00:00Z',\n",
       " 'game_start_time': None,\n",
       " 'seconds_delay': 0,\n",
       " 'fpmm': '',\n",
       " 'maker_base_fee': 0,\n",
       " 'taker_base_fee': 0,\n",
       " 'notifications_enabled': True,\n",
       " 'neg_risk': False,\n",
       " 'neg_risk_market_id': '',\n",
       " 'neg_risk_request_id': '',\n",
       " 'icon': 'https://polymarket-upload.s3.us-east-2.amazonaws.com/bitcoin-up-in-q1-2025-SQzx2CqISD-U.jpg',\n",
       " 'image': 'https://polymarket-upload.s3.us-east-2.amazonaws.com/bitcoin-up-in-q1-2025-SQzx2CqISD-U.jpg',\n",
       " 'rewards': {'rates': [{'asset_address': '0x2791Bca1f2de4661ED88A30C99A7a9449Aa84174',\n",
       "    'rewards_daily_rate': 10}],\n",
       "  'min_size': 50,\n",
       "  'max_spread': 3.5},\n",
       " 'is_50_50_outcome': False,\n",
       " 'tokens': [{'token_id': '82927494066775506689099766141381125044040984047946118898947348013267483041764',\n",
       "   'outcome': 'Up',\n",
       "   'price': 0.365,\n",
       "   'winner': False},\n",
       "  {'token_id': '57986198515554610231731678339981375699725311806987090344113037127960668681893',\n",
       "   'outcome': 'Down',\n",
       "   'price': 0.635,\n",
       "   'winner': False}],\n",
       " 'tags': ['Bitcoin', 'Crypto Prices', 'Crypto', 'btc']}"
      ]
     },
     "execution_count": 42,
     "metadata": {},
     "output_type": "execute_result"
    }
   ],
   "source": [
    "market = client.get_market(\"0xa9444a9067fb2958ac36dd3f0ea25c07da5c39dc595643280b5ec037334b75de\")\n",
    "market"
   ]
  },
  {
   "cell_type": "code",
   "execution_count": null,
   "metadata": {},
   "outputs": [
    {
     "data": {
      "text/plain": [
       "OrderBookSummary(market='0x39bc347a1bb74a3f410ea850a46962572e3d932bf00f0f99b7a3d2b4141fa87a', asset_id='36665780724924721135862021472225286854518004551848050268584060069434509875611', timestamp='1741188769836', bids=[OrderSummary(price='0.001', size='211874.23'), OrderSummary(price='0.002', size='65813.65'), OrderSummary(price='0.003', size='8633.8')], asks=[OrderSummary(price='0.999', size='3000000'), OrderSummary(price='0.99', size='128.18'), OrderSummary(price='0.97', size='333'), OrderSummary(price='0.95', size='1000'), OrderSummary(price='0.89', size='526.04'), OrderSummary(price='0.52', size='7000'), OrderSummary(price='0.519', size='15000'), OrderSummary(price='0.5', size='8.33'), OrderSummary(price='0.36', size='333.33'), OrderSummary(price='0.29', size='263.79'), OrderSummary(price='0.231', size='4000'), OrderSummary(price='0.214', size='30000'), OrderSummary(price='0.207', size='1450'), OrderSummary(price='0.19', size='210'), OrderSummary(price='0.16', size='40.07'), OrderSummary(price='0.15', size='284.11'), OrderSummary(price='0.14', size='1603.47'), OrderSummary(price='0.12', size='1000'), OrderSummary(price='0.111', size='3000'), OrderSummary(price='0.105', size='30381.81'), OrderSummary(price='0.101', size='10000'), OrderSummary(price='0.1', size='2400'), OrderSummary(price='0.09', size='10'), OrderSummary(price='0.085', size='606.88'), OrderSummary(price='0.081', size='2500'), OrderSummary(price='0.08', size='810.28'), OrderSummary(price='0.07', size='3411.96'), OrderSummary(price='0.061', size='1200'), OrderSummary(price='0.06', size='1099.99'), OrderSummary(price='0.057', size='1708.01'), OrderSummary(price='0.056', size='2499.99'), OrderSummary(price='0.054', size='1333'), OrderSummary(price='0.053', size='1112'), OrderSummary(price='0.052', size='1243'), OrderSummary(price='0.051', size='2462'), OrderSummary(price='0.05', size='4643'), OrderSummary(price='0.048', size='7034.01'), OrderSummary(price='0.047', size='622.13'), OrderSummary(price='0.045', size='105'), OrderSummary(price='0.044', size='2000'), OrderSummary(price='0.043', size='6860.42'), OrderSummary(price='0.041', size='280'), OrderSummary(price='0.04', size='32469.13'), OrderSummary(price='0.035', size='200'), OrderSummary(price='0.034', size='73.78'), OrderSummary(price='0.033', size='1541.4'), OrderSummary(price='0.03', size='34516.29'), OrderSummary(price='0.029', size='30013'), OrderSummary(price='0.027', size='1300'), OrderSummary(price='0.025', size='200'), OrderSummary(price='0.022', size='172267.98'), OrderSummary(price='0.02', size='6274.88'), OrderSummary(price='0.019', size='3377'), OrderSummary(price='0.018', size='20568'), OrderSummary(price='0.016', size='500'), OrderSummary(price='0.015', size='4633'), OrderSummary(price='0.014', size='2619.03'), OrderSummary(price='0.013', size='650'), OrderSummary(price='0.012', size='600'), OrderSummary(price='0.011', size='3047.03'), OrderSummary(price='0.01', size='95297.2'), OrderSummary(price='0.009', size='2779.08'), OrderSummary(price='0.008', size='6230.34'), OrderSummary(price='0.007', size='898.12'), OrderSummary(price='0.006', size='726.94'), OrderSummary(price='0.004', size='338.66')], hash='7425d3a37b06e08ab51daa91123e915b46a17806')"
      ]
     },
     "execution_count": 35,
     "metadata": {},
     "output_type": "execute_result"
    }
   ],
   "source": [
    "token_id = \"36665780724924721135862021472225286854518004551848050268584060069434509875611\"\n",
    "\n",
    "resp = client\n",
    "resp"
   ]
  },
  {
   "cell_type": "code",
   "execution_count": 37,
   "metadata": {},
   "outputs": [
    {
     "data": {
      "text/plain": [
       "OrderSummary(price='0.001', size='211874.23')"
      ]
     },
     "execution_count": 37,
     "metadata": {},
     "output_type": "execute_result"
    }
   ],
   "source": [
    "resp.bids[0]"
   ]
  }
 ],
 "metadata": {
  "kernelspec": {
   "display_name": "venv",
   "language": "python",
   "name": "python3"
  },
  "language_info": {
   "codemirror_mode": {
    "name": "ipython",
    "version": 3
   },
   "file_extension": ".py",
   "mimetype": "text/x-python",
   "name": "python",
   "nbconvert_exporter": "python",
   "pygments_lexer": "ipython3",
   "version": "3.13.1"
  }
 },
 "nbformat": 4,
 "nbformat_minor": 2
}
